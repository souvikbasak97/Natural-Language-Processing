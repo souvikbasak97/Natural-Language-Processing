{
 "cells": [
  {
   "cell_type": "code",
   "execution_count": 2,
   "metadata": {},
   "outputs": [],
   "source": [
    "import nltk"
   ]
  },
  {
   "cell_type": "code",
   "execution_count": 3,
   "metadata": {},
   "outputs": [
    {
     "name": "stdout",
     "output_type": "stream",
     "text": [
      "Python: 3.7.4 (default, Aug  9 2019, 18:34:13) [MSC v.1915 64 bit (AMD64)]\n",
      "nltk: 3.4.5\n",
      "sklearn 0.21.3\n"
     ]
    }
   ],
   "source": [
    "import sys\n",
    "import sklearn\n",
    "print(\"Python:\",sys.version)\n",
    "print(\"nltk:\",nltk.__version__)\n",
    "print(\"sklearn\",sklearn.__version__)"
   ]
  },
  {
   "cell_type": "code",
   "execution_count": 4,
   "metadata": {},
   "outputs": [
    {
     "name": "stdout",
     "output_type": "stream",
     "text": [
      "showing info https://raw.githubusercontent.com/nltk/nltk_data/gh-pages/index.xml\n"
     ]
    },
    {
     "data": {
      "text/plain": [
       "True"
      ]
     },
     "execution_count": 4,
     "metadata": {},
     "output_type": "execute_result"
    }
   ],
   "source": [
    "nltk.download()"
   ]
  },
  {
   "cell_type": "markdown",
   "metadata": {},
   "source": [
    "### Corpus\n",
    "A collection of written texts, especially the entire works of a particular author or a body of writing on a particular subject.Corpora is the plural of this.Eg:\"The darwinian corpus.\"\n",
    "\n",
    "### Lexicon\n",
    "The vocabulary of a person, language, or branch of knowledge.Eg:English dictionary.\n",
    "\n",
    "### Token\n",
    "Each entity that is part of whatever was split up based on rules.For examples,each word is a token when a sentence is \"tokenised\" into words.Each sentence can also be a token if you tokenised the sentences out of a paragraph."
   ]
  },
  {
   "cell_type": "code",
   "execution_count": 5,
   "metadata": {},
   "outputs": [
    {
     "name": "stdout",
     "output_type": "stream",
     "text": [
      "['This is a project made in Jupyter Lab.', 'It is an implementation of natural language processing.', 'This is done entirely in python using the python nltk library.']\n"
     ]
    }
   ],
   "source": [
    "from nltk.tokenize import sent_tokenize,word_tokenize\n",
    "\n",
    "text='This is a project made in Jupyter Lab. It is an implementation of natural language processing. This is done entirely in python using the python nltk library.'\n",
    "\n",
    "print(sent_tokenize(text))"
   ]
  },
  {
   "cell_type": "code",
   "execution_count": 6,
   "metadata": {},
   "outputs": [
    {
     "name": "stdout",
     "output_type": "stream",
     "text": [
      "['This', 'is', 'a', 'project', 'made', 'in', 'Jupyter', 'Lab', '.', 'It', 'is', 'an', 'implementation', 'of', 'natural', 'language', 'processing', '.', 'This', 'is', 'done', 'entirely', 'in', 'python', 'using', 'the', 'python', 'nltk', 'library', '.']\n"
     ]
    }
   ],
   "source": [
    "print(word_tokenize(text))"
   ]
  },
  {
   "cell_type": "code",
   "execution_count": 7,
   "metadata": {},
   "outputs": [
    {
     "name": "stdout",
     "output_type": "stream",
     "text": [
      "{\"didn't\", 'further', 'over', 'it', 'few', 'there', 'those', 'can', 'does', 'doesn', \"couldn't\", 'too', \"weren't\", 'from', 'how', 'am', 'itself', \"wouldn't\", 'will', 'but', 'his', 'more', 'off', 'my', 'theirs', 'wouldn', 'these', 'is', 'such', 'not', 'hadn', 'shouldn', 'himself', 'i', 'under', 'if', 'being', 'their', 'aren', 'do', 'up', \"shan't\", 'with', 'both', 'what', 'isn', 'to', 'against', 'why', 'than', 'same', 'herself', 'should', 'm', 'which', 'for', \"doesn't\", 'whom', 'are', \"needn't\", 'have', 'on', \"you'd\", 'weren', 'the', 'some', 't', \"you'll\", 'when', 'mustn', 'all', 'as', 'at', 'o', 'in', 'having', \"mightn't\", 'been', \"aren't\", 'yourself', 'mightn', 'out', 'she', 'then', 'her', 's', \"you've\", 'above', 'yours', 'they', \"wasn't\", 'didn', 'down', 're', 'themselves', 'you', 've', 'couldn', 'shan', 'now', 'below', 'each', 'did', 'needn', 'hasn', 'or', \"haven't\", 'again', 'ain', \"shouldn't\", 'ourselves', 'an', 'we', 'were', 'most', 'wasn', 'because', 'by', 'that', 'd', 'until', 'myself', \"hasn't\", 'only', \"isn't\", 'ours', \"that'll\", \"you're\", 'this', 'has', 'had', 'after', 'nor', 'hers', 'won', 'once', 'other', 'between', 'he', 'be', 'll', 'of', 'through', 'our', 'no', 'doing', 'during', 'own', 'here', \"won't\", 'y', \"it's\", 'a', 'into', 'any', 'before', 'its', 'haven', 'ma', 'so', 'just', \"mustn't\", 'who', 'yourselves', \"should've\", 'them', 'and', 'him', 'your', 'where', 'about', 'very', \"she's\", \"don't\", \"hadn't\", 'me', 'while', 'don', 'was'}\n"
     ]
    }
   ],
   "source": [
    "#removing useless data\n",
    "from nltk.corpus import stopwords\n",
    "print(set(stopwords.words('english')))"
   ]
  },
  {
   "cell_type": "code",
   "execution_count": 8,
   "metadata": {},
   "outputs": [
    {
     "name": "stdout",
     "output_type": "stream",
     "text": [
      "['Sample', 'text', 'to', 'show', 'stop', 'words', 'being', 'filtered', '.']\n",
      "['Sample', 'text', 'show', 'stop', 'words', 'filtered', '.']\n"
     ]
    }
   ],
   "source": [
    "example='Sample text to show stop words being filtered.'\n",
    "st_wrd=set(stopwords.words('english'))\n",
    "word_token=word_tokenize(example)\n",
    "filtered_sentence=[w for w in word_token if w not in st_wrd]\n",
    "print(word_token)\n",
    "print(filtered_sentence)"
   ]
  },
  {
   "cell_type": "code",
   "execution_count": 9,
   "metadata": {},
   "outputs": [
    {
     "name": "stdout",
     "output_type": "stream",
     "text": [
      "bike\n",
      "biker\n",
      "bike\n",
      "bike\n"
     ]
    }
   ],
   "source": [
    "#Stemming words with NLTK\n",
    "from nltk.stem import PorterStemmer\n",
    "ps=PorterStemmer()\n",
    "example_words=['bike','biker','biking','bikes']\n",
    "for w in example_words:\n",
    "    print(ps.stem(w))"
   ]
  },
  {
   "cell_type": "code",
   "execution_count": 10,
   "metadata": {},
   "outputs": [
    {
     "name": "stdout",
     "output_type": "stream",
     "text": [
      "the\n",
      "differ\n",
      "between\n",
      "a\n",
      "woman\n",
      "'s\n",
      "bicycl\n",
      "and\n",
      "other\n",
      "bicycl\n",
      "is\n",
      "the\n",
      "locat\n",
      "of\n",
      "the\n",
      "top\n",
      "tube\n",
      ".\n",
      "when\n",
      "women\n",
      "began\n",
      "to\n",
      "ride\n",
      "bike\n",
      ",\n",
      "they\n",
      "wore\n",
      "long\n",
      "skirt\n",
      ".\n",
      "the\n",
      "manufactur\n",
      "of\n",
      "bike\n",
      "chang\n",
      "the\n",
      "locat\n",
      "of\n",
      "the\n",
      "top\n",
      "tube\n",
      "to\n",
      "make\n",
      "it\n",
      "easier\n",
      "for\n",
      "women\n",
      "to\n",
      "sit\n",
      "down\n",
      "on\n",
      "them\n",
      "while\n",
      "wear\n",
      "a\n",
      "skirt\n",
      ".\n",
      "some\n",
      "util\n",
      "bicycl\n",
      "are\n",
      "similar\n",
      ",\n",
      "for\n",
      "rider\n",
      "who\n",
      "make\n",
      "frequent\n",
      "stops..\n"
     ]
    }
   ],
   "source": [
    "text=\"The difference between a woman's bicycle and other bicycles is the location of the top tube. When women began to ride bikes, they wore long skirts. The manufacturers of bikes changed the location of the top tube to make it easier for women to sit down on them while wearing a skirt. Some utility bicycles are similar, for riders who make frequent stops..\"\n",
    "words=word_tokenize(text)\n",
    "for w in words:\n",
    "    print(ps.stem(w))"
   ]
  },
  {
   "cell_type": "code",
   "execution_count": 11,
   "metadata": {},
   "outputs": [
    {
     "name": "stdout",
     "output_type": "stream",
     "text": [
      "showing info https://raw.githubusercontent.com/nltk/nltk_data/gh-pages/index.xml\n"
     ]
    },
    {
     "data": {
      "text/plain": [
       "True"
      ]
     },
     "execution_count": 11,
     "metadata": {},
     "output_type": "execute_result"
    }
   ],
   "source": [
    "nltk.download()"
   ]
  },
  {
   "cell_type": "code",
   "execution_count": 12,
   "metadata": {},
   "outputs": [
    {
     "name": "stdout",
     "output_type": "stream",
     "text": [
      "Universal Declaration of Human Rights\n",
      "Preamble\n",
      "Whereas recognition of the inherent dignity and of the equal and inalienable rights of all members of the human family is the foundation of freedom, justice and peace in the world, \n",
      "\n",
      "Whereas disregard and contempt for human rights have resulted in barbarous acts which have outraged the conscience of mankind, and the advent of a world in which human beings shall enjoy freedom of speech and belief and freedom from fear and want has been proclaimed as the highest aspiration of the common people, \n",
      "\n",
      "Whereas it is essential, if man is not to be compelled to have recourse, as a last resort, to rebellion against tyranny and oppression, that human rights should be protected by the rule of law, \n",
      "\n",
      "Whereas it is essential to promote the development of friendly relations between nations, \n",
      "\n",
      "Whereas the peoples of the United Nations have in the Charter reaffirmed their faith in fundamental human rights, in the dignity and worth of the human person and in the equal rights of men and women and have determined to promote social progress and better standards of life in larger freedom, \n",
      "\n",
      "Whereas Member States have pledged themselves to achieve, in cooperation with the United Nations, the promotion of universal respect for and observance of human rights and fundamental freedoms, \n",
      "\n",
      "Whereas a common understanding of these rights and freedoms is of the greatest importance for the full realization of this pledge, \n",
      "\n",
      "Now, therefore, \n",
      "\n",
      "The General Assembly, \n",
      "\n",
      "Proclaims this Universal Declaration of Human Rights as a common standard of achievement for all peoples and all nations, to the end that every individual and every organ of society, keeping this Declaration constantly in mind, shall strive by teaching and education to promote respect for these rights and freedoms and by progressive measures, national and international, to secure their universal and effective recognition and observance, both among the peoples of Member States themselves and among the peoples of territories under their jurisdiction. \n",
      "\n",
      "Article 1 \n",
      "All human beings are born free and equal in dignity and rights. They are endowed with reason and conscience and should act towards one another in a spirit of brotherhood. \n",
      "\n",
      "Article 2 \n",
      "Everyone is entitled to all the rights and freedoms set forth in this Declaration, without distinction of any kind, such as race, colour, sex, language, religion, political or other opinion, national or social origin, property, birth or other status. \n",
      "\n",
      "Furthermore, no distinction shall be made on the basis of the political, jurisdictional or international status of the country or territory to which a person belongs, whether it be independent, trust, non-self-governing or under any other limitation of sovereignty. \n",
      "\n",
      "Article 3 \n",
      "Everyone has the right to life, liberty and security of person. \n",
      "\n",
      "Article 4 \n",
      "No one shall be held in slavery or servitude; slavery and the slave trade shall be prohibited in all their forms. \n",
      "\n",
      "Article 5 \n",
      "No one shall be subjected to torture or to cruel, inhuman or degrading treatment or punishment. \n",
      "\n",
      "Article 6 \n",
      "Everyone has the right to recognition everywhere as a person before the law. \n",
      "\n",
      "Article 7 \n",
      "All are equal before the law and are entitled without any discrimination to equal protection of the law. All are entitled to equal protection against any discrimination in violation of this Declaration and against any incitement to such discrimination. \n",
      "\n",
      "Article 8 \n",
      "Everyone has the right to an effective remedy by the competent national tribunals for acts violating the fundamental rights granted him by the constitution or by law. \n",
      "\n",
      "Article 9 \n",
      "No one shall be subjected to arbitrary arrest, detention or exile. \n",
      "\n",
      "Article 10 \n",
      "Everyone is entitled in full equality to a fair and public hearing by an independent and impartial tribunal, in the determination of his rights and obligations and of any criminal charge against him. \n",
      "\n",
      "Article 11 \n",
      "Everyone charged with a penal offence has the right to be presumed innocent until proved guilty according to law in a public trial at which he has had all the guarantees necessary for his defence. \n",
      "No one shall be held guilty of any penal offence on account of any act or omission which did not constitute a penal offence, under national or international law, at the time when it was committed. Nor shall a heavier penalty be imposed than the one that was applicable at the time the penal offence was committed. \n",
      "Article 12 \n",
      "No one shall be subjected to arbitrary interference with his privacy, family, home or correspondence, nor to attacks upon his honour and reputation. Everyone has the right to the protection of the law against such interference or attacks. \n",
      "\n",
      "Article 13 \n",
      "Everyone has the right to freedom of movement and residence within the borders of each State. \n",
      "Everyone has the right to leave any country, including his own, and to return to his country. \n",
      "Article 14 \n",
      "Everyone has the right to seek and to enjoy in other countries asylum from persecution. \n",
      "This right may not be invoked in the case of prosecutions genuinely arising from non-political crimes or from acts contrary to the purposes and principles of the United Nations. \n",
      "Article 15 \n",
      "Everyone has the right to a nationality. \n",
      "No one shall be arbitrarily deprived of his nationality nor denied the right to change his nationality. \n",
      "Article 16 \n",
      "Men and women of full age, without any limitation due to race, nationality or religion, have the right to marry and to found a family. They are entitled to equal rights as to marriage, during marriage and at its dissolution. \n",
      "Marriage shall be entered into only with the free and full consent of the intending spouses. \n",
      "The family is the natural and fundamental group unit of society and is entitled to protection by society and the State. \n",
      "Article 17 \n",
      "Everyone has the right to own property alone as well as in association with others. \n",
      "No one shall be arbitrarily deprived of his property. \n",
      "Article 18 \n",
      "Everyone has the right to freedom of thought, conscience and religion; this right includes freedom to change his religion or belief, and freedom, either alone or in community with others and in public or private, to manifest his religion or belief in teaching, practice, worship and observance. \n",
      "\n",
      "Article 19 \n",
      "Everyone has the right to freedom of opinion and expression; this right includes freedom to hold opinions without interference and to seek, receive and impart information and ideas through any media and regardless of frontiers. \n",
      "\n",
      "Article 20 \n",
      "Everyone has the right to freedom of peaceful assembly and association. \n",
      "No one may be compelled to belong to an association. \n",
      "Article 21 \n",
      "Everyone has the right to take part in the government of his country, directly or through freely chosen representatives. \n",
      "Everyone has the right to equal access to public service in his country. \n",
      "The will of the people shall be the basis of the authority of government; this will shall be expressed in periodic and genuine elections which shall be by universal and equal suffrage and shall be held by secret vote or by equivalent free voting procedures. \n",
      "Article 22 \n",
      "Everyone, as a member of society, has the right to social security and is entitled to realization, through national effort and international co-operation and in accordance with the organization and resources of each State, of the economic, social and cultural rights indispensable for his dignity and the free development of his personality. \n",
      "\n",
      "Article 23 \n",
      "Everyone has the right to work, to free choice of employment, to just and favourable conditions of work and to protection against unemployment. \n",
      "Everyone, without any discrimination, has the right to equal pay for equal work. \n",
      "Everyone who works has the right to just and favourable remuneration ensuring for himself and his family an existence worthy of human dignity, and supplemented, if necessary, by other means of social protection. \n",
      "Everyone has the right to form and to join trade unions for the protection of his interests. \n",
      "Article 24 \n",
      "Everyone has the right to rest and leisure, including reasonable limitation of working hours and periodic holidays with pay. \n",
      "\n",
      "Article 25 \n",
      "Everyone has the right to a standard of living adequate for the health and well-being of himself and of his family, including food, clothing, housing and medical care and necessary social services, and the right to security in the event of unemployment, sickness, disability, widowhood, old age or other lack of livelihood in circumstances beyond his control. \n",
      "Motherhood and childhood are entitled to special care and assistance. All children, whether born in or out of wedlock, shall enjoy the same social protection. \n",
      "Article 26 \n",
      "Everyone has the right to education. Education shall be free, at least in the elementary and fundamental stages. Elementary education shall be compulsory. Technical and professional education shall be made generally available and higher education shall be equally accessible to all on the basis of merit. \n",
      "Education shall be directed to the full development of the human personality and to the strengthening of respect for human rights and fundamental freedoms. It shall promote understanding, tolerance and friendship among all nations, racial or religious groups, and shall further the activities of the United Nations for the maintenance of peace. \n",
      "Parents have a prior right to choose the kind of education that shall be given to their children. \n",
      "Article 27 \n",
      "Everyone has the right freely to participate in the cultural life of the community, to enjoy the arts and to share in scientific advancement and its benefits. \n",
      "Everyone has the right to the protection of the moral and material interests resulting from any scientific, literary or artistic production of which he is the author. \n",
      "Article 28 \n",
      "Everyone is entitled to a social and international order in which the rights and freedoms set forth in this Declaration can be fully realized. \n",
      "\n",
      "Article 29 \n",
      "Everyone has duties to the community in which alone th\n"
     ]
    }
   ],
   "source": [
    "from nltk.corpus import udhr\n",
    "print(udhr.raw('English-Latin1'))"
   ]
  },
  {
   "cell_type": "code",
   "execution_count": 13,
   "metadata": {},
   "outputs": [],
   "source": [
    "from nltk.corpus import state_union\n",
    "from nltk.tokenize import PunktSentenceTokenizer\n",
    "\n",
    "training_tok=state_union.raw('2005-GWBush.txt')\n",
    "actual_tok=state_union.raw('2006-GWBush.txt')"
   ]
  },
  {
   "cell_type": "code",
   "execution_count": 14,
   "metadata": {},
   "outputs": [
    {
     "name": "stdout",
     "output_type": "stream",
     "text": [
      "PRESIDENT GEORGE W. BUSH'S ADDRESS BEFORE A JOINT SESSION OF THE CONGRESS ON THE STATE OF THE UNION\n",
      " \n",
      "February 2, 2005\n",
      "\n",
      "\n",
      "9:10 P.M. EST \n",
      "\n",
      "THE PRESIDENT: Mr. Speaker, Vice President Cheney, members of Congress, fellow citizens: \n",
      "\n",
      "As a new Congress gathers, all of us in the elected branches of government share a great privilege: We've been placed in office by the votes of the people we serve. And tonight that is a privilege we share with newly-elected leaders of Afghanistan, the Palestinian Territories, Ukraine, and a free and sovereign Iraq. (Applause.) \n",
      "\n",
      "Two weeks ago, I stood on the steps of this Capitol and renewed the commitment of our nation to the guiding ideal of liberty for all. This evening I will set forth policies to advance that ideal at home and around the world. \n",
      "\n",
      "Tonight, with a healthy, growing economy, with more Americans going back to work, with our nation an active force for good in the world -- the state of our union is confident and strong. (Applause.) \n",
      "\n",
      "Our generation has been blessed -- by the expansion of opportunity, by advances in medicine, by the security purchased by our parents' sacrifice. Now, as we see a little gray in the mirror -- or a lot of gray -- (laughter) -- and we watch our children moving into adulthood, we ask the question: What will be the state of their union? Members of Congress, the choices we make together will answer that question. Over the next several months, on issue after issue, let us do what Americans have always done, and build a better world for our children and our grandchildren. (Applause.) \n",
      "\n",
      "First, we must be good stewards of this economy, and renew the great institutions on which millions of our fellow citizens rely. America's economy is the fastest growing of any major industrialized nation. In the past four years, we provided tax relief to every person who pays income taxes, overcome a recession, opened up new markets abroad, prosecuted corporate criminals, raised homeownership to its highest level in history, and in the last year alone, the United States has added 2.3 million new jobs. (Applause.) When action was needed, the Congress delivered -- and the nation is grateful. \n",
      "\n",
      "Now we must add to these achievements. By making our economy more flexible, more innovative, and more competitive, we will keep America the economic leader of the world. (Applause.) \n",
      "\n",
      "America's prosperity requires restraining the spending appetite of the federal government. I welcome the bipartisan enthusiasm for spending discipline. I will send you a budget that holds the growth of discretionary spending below inflation, makes tax relief permanent, and stays on track to cut the deficit in half by 2009. (Applause.) My budget substantially reduces or eliminates more than 150 government programs that are not getting results, or duplicate current efforts, or do not fulfill essential priorities. The principle here is clear: Taxpayer dollars must be spent wisely, or not at all. (Applause.) \n",
      "\n",
      "To make our economy stronger and more dynamic, we must prepare a rising generation to fill the jobs of the 21st century. Under the No Child Left Behind Act, standards are higher, test scores are on the rise, and we're closing the achievement gap for minority students. Now we must demand better results from our high schools, so every high school diploma is a ticket to success. We will help an additional 200,000 workers to get training for a better career, by reforming our job training system and strengthening America's community colleges. And we'll make it easier for Americans to afford a college education, by increasing the size of Pell Grants. (Applause.) \n",
      "\n",
      "To make our economy stronger and more competitive, America must reward, not punish, the efforts and dreams of entrepreneurs. Small business is the path of advancement, especially for women and minorities, so we must free small businesses from needless regulation and protect honest job-creators from junk lawsuits. (Applause.) Justice is distorted, and our economy is held back by irresponsible class-actions and frivolous asbestos claims -- and I urge Congress to pass legal reforms this year. (Applause.) \n",
      "\n",
      "To make our economy stronger and more productive, we must make health care more affordable, and give families greater access to good coverage -- (applause) -- and more control over their health decisions. (Applause.) I ask Congress to move forward on a comprehensive health care agenda with tax credits to help low-income workers buy insurance, a community health center in every poor country, improved information technology to prevent medical error and needless costs, association health plans for small businesses and their employees -- (applause) -- expanded health savings accounts -- (applause) -- and medical liability reform that will reduce health care costs and make sure patients have the doctors and care they need. (Applause.) \n",
      "\n",
      "To keep our economy growing, we also need reliable supplies of affordable, environmentally responsible energy. (Applause.) Nearly four years ago, I submitted a comprehensive energy strategy that encourages conservation, alternative sources, a modernized electricity grid, and more production here at home -- including safe, clean nuclear energy. (Applause.) My Clear Skies legislation will cut power plant pollution and improve the health of our citizens. (Applause.) And my budget provides strong funding for leading-edge technology -- from hydrogen-fueled cars, to clean coal, to renewable sources such as ethanol. (Applause.) Four years of debate is enough: I urge Congress to pass legislation that makes America more secure and less dependent on foreign energy. (Applause.) \n",
      "\n",
      "All these proposals are essential to expand this economy and add new jobs -- but they are just the beginning of our duty. To build the prosperity of future generations, we must update institutions that were created to meet the needs of an earlier time. Year after year, Americans are burdened by an archaic, incoherent federal tax code. I've appointed a bipartisan panel to examine the tax code from top to bottom. And when their recommendations are delivered, you and I will work together to give this nation a tax code that is pro-growth, easy to understand, and fair to all. (Applause.) \n",
      "\n",
      "America's immigration system is also outdated -- unsuited to the needs of our economy and to the values of our country. We should not be content with laws that punish hardworking people who want only to provide for their families, and deny businesses willing workers, and invite chaos at our border. It is time for an immigration policy that permits temporary guest workers to fill jobs Americans will not take, that rejects amnesty, that tells us who is entering and leaving our country, and that closes the border to drug dealers and terrorists. (Applause.) \n",
      "\n",
      "One of America's most important institutions -- a symbol of the trust between generations -- is also in need of wise and effective reform. Social Security was a great moral success of the 20th century, and we must honor its great purposes in this new century. (Applause.) The system, however, on its current path, is headed toward bankruptcy. And so we must join together to strengthen and save Social Security. (Applause.) \n",
      "\n",
      "Today, more than 45 million Americans receive Social Security benefits, and millions more are nearing retirement -- and for them the system is sound and fiscally strong. I have a message for every American who is 55 or older: Do not let anyone mislead you; for you, the Social Security system will not change in any way. (Applause.) For younger workers, the Social Security system has serious problems that will grow worse with time. Social Security was created decades ago, for a very different era. In those days, people did not live as long. Benefits were much lower than they are today. And a half-century ago, about sixteen workers paid into the system for each person drawing benefits. \n",
      "\n",
      "Our society has changed in ways the founders of Social Security could not have foreseen. In today's world, people are living longer and, therefore, drawing benefits longer. And those benefits are scheduled to rise dramatically over the next few decades. And instead of sixteen workers paying in for every beneficiary, right now it's only about three workers. And over the next few decades that number will fall to just two workers per beneficiary. With each passing year, fewer workers are paying ever-higher benefits to an ever-larger number of retirees. \n",
      "\n",
      "So here is the result: Thirteen years from now, in 2018, Social Security will be paying out more than it takes in. And every year afterward will bring a new shortfall, bigger than the year before. For example, in the year 2027, the government will somehow have to come up with an extra $200 billion to keep the system afloat -- and by 2033, the annual shortfall would be more than $300 billion. By the year 2042, the entire system would be exhausted and bankrupt. If steps are not taken to avert that outcome, the only solutions would be dramatically higher taxes, massive new borrowing, or sudden and severe cuts in Social Security benefits or other government programs. \n",
      "\n",
      "I recognize that 2018 and 2042 may seem a long way off. But those dates are not so distant, as any parent will tell you. If you have a five-year-old, you're already concerned about how you'll pay for college tuition 13 years down the road. If you've got children in their 20s, as some of us do, the idea of Social Security collapsing before they retire does not seem like a small matter. And it should not be a small matter to the United States Congress. (Applause.) You and I share a responsibility. We must pass reforms that solve the financial problems of Social Security once and for all. \n",
      "\n",
      "Fixing Social Security permanently will require an open, candid review of the options. Some have suggested limiting benefits for wealthy retirees. Former Congressman Tim Penny has raised the possibility of indexing benefits to prices rather than wages. During the 1990s, my predecessor, President Clinton, spoke of increasing the retirement age. Former Senator John Breaux suggested discouraging early collection of Social Security benefits. The late Senator Daniel Patrick Moynihan recommended changing the way benefits are calculated. All these ideas are on the table. \n",
      "\n",
      "I know that none of these reforms would be easy. But we have to move ahead with courage and honesty, because our children's retirement security is more important than partisan politics. (Applause.) I will work with members of Congress to find the most effective combination of reforms. I will listen to anyone who has a good idea to offer. (Applause.) We must, however, be guided by some basic principles. We must make Social Security permanently sound, not leave that task for another day. We must not jeopardize our economic strength by increasing payroll taxes. We must ensure that lower-income Americans get the help they need to have dignity and peace of mind in their retirement. We must guarantee there is no change for those now retired or nearing retirement. And we must take care that any changes in the system are gradual, so younger workers have years to prepare and plan for their future. \n",
      "\n",
      "As we fix Social Security, we also have the responsibility to make the system a better deal for younger workers. And the best way to reach that goal is through voluntary personal retirement accounts. (Applause.) Here is how the idea works. Right now, a set portion of the money you earn is taken out of your paycheck to pay for the Social Security benefits of today's retirees. If you're a younger worker, I believe you should be able to set aside part of that money in your own retirement account, so you can build a nest egg for your own future. \n",
      "\n",
      "Here's why the personal accounts are a better deal. Your money will grow, over time, at a greater rate than anything the current system can deliver -- and your account will provide money for retirement over and above the check you will receive from Social Security. In addition, you'll be able to pass along the money that accumulates in your personal account, if you wish, to your children and -- or grandchildren. And best of all, the money in the account is yours, and the government can never take it away. (Applause.) \n",
      "\n",
      "The goal here is greater security in retirement, so we will set careful guidelines for personal accounts. We'll make sure the money can only go into a conservative mix of bonds and stock funds. We'll make sure that your earnings are not eaten up by hidden Wall Street fees. We'll make sure there are good options to protect your investments from sudden market swings on the eve of your retirement. We'll make sure a personal account cannot be emptied out all at once, but rather paid out over time, as an addition to traditional Social Security benefits. And we'll make sure this plan is fiscally responsible, by starting personal retirement accounts gradually, and raising the yearly limits on contributions over time, eventually permitting all workers to set aside four percentage points of their payroll taxes in their accounts. \n",
      "\n",
      "Personal retirement accounts should be familiar to federal employees, because you already have something similar, called the Thrift Savings Plan, which lets workers deposit a portion of their paychecks into any of five different broadly-based investment funds. It's time to extend the same security, and choice, and ownership to young Americans. (Applause.) \n",
      "\n",
      "Our second great responsibility to our children and grandchildren is to honor and to pass along the values that sustain a free society. So many of my generation, after a long journey, have come home to family and faith, and are determined to bring up responsible, moral children. Government is not the source of these values, but government should never undermine them. \n",
      "\n",
      "Because marriage is a sacred institution and the foundation of society, it should not be re-defined by activist judges. For the good of families, children, and society, I support a constitutional amendment to protect the institution of marriage. (Applause.) \n",
      "\n",
      "Because a society is measured by how it treats the weak and vulnerable, we must strive to build a culture of life. Medical research can help us reach that goal, by developing treatments and cures that save lives and help people overcome disabilities -- and I thank the Congress for doubling the funding of the National Institutes of Health. (Applause.) To build a culture of life, we must also ensure that scientific advances always serve human dignity, not take advantage of some lives for the benefit of others. We should all be able to agree -- (applause) -- we should all be able to agree on some clear standards. I will work with Congress to ensure that human embryos are not created for experimentation or grown for body parts, and that human life is never bought and sold as a commodity. (Applause.) America will continue to lead the world in medical research that is ambitious, aggressive, and always ethical. \n",
      "\n",
      "Because courts must always deliver impartial justice, judges have a duty to faithfully interpret the law, not legislate from the bench. (Applause.) As President, I have a constitutional responsibility to nominate men and women who understand the role of courts in our democracy, and are well-qualified to serve on the bench -- and I have done so. (Applause.) The Constitution also gives the Senate a responsibility: Every judicial nominee deserves an up or down vote. (Applause.) \n",
      "\n",
      "Because one of the deepest values of our country is compassion, we must never turn away from any citizen who feels isolated from the opportunities of America. Our government will continue to support faith-based and community groups that bring hope to harsh places. Now we need to focus on giving young people, especially young men in our cities, better options than apathy, or gangs, or jail. Tonight I propose a three-year initiative to help organizations keep young people out of gangs, and show young men an ideal of manhood that respects women and rejects violence. (Applause.) Taking on gang life will be one part of a broader outreach to at-risk youth, which involves parents and pastors, coaches and community leaders, in programs ranging from literacy to sports. And I am proud that the leader of this nationwide effort will be our First Lady, Laura Bush. (Applause.) \n",
      "\n",
      "Because HIV/AIDS brings suffering and fear into so many lives, I ask you to reauthorize the Ryan White Act to encourage prevention, and provide care and treatment to the victims of that disease. (Applause.) And as we update this important law, we must focus our efforts on fellow citizens with the highest rates of new cases, African American men and women. (Applause.) \n",
      "\n",
      "Because one of the main sources of our national unity is our belief in equal justice, we need to make sure Americans of all races and backgrounds have confidence in the system that provides justice. In America we must make doubly sure no person is held to account for a crime he or she did not commit -- so we are dramatically expanding the use of DNA evidence to prevent wrongful conviction. (Applause.) Soon I will send to Congress a proposal to fund special training for defense counsel in capital cases, because people on trial for their lives must have competent lawyers by their side. (Applause.) \n",
      "\n",
      "Our third responsibility to future generations is to leave them an America that is safe from danger, and protected by peace. We will pass along to our children all the freedoms we enjoy -- and chief among them is freedom from fear. \n",
      "\n",
      "In the three and a half years since September the 11th, 2001, we have taken unprecedented actions to protect Americans. We've created a new department of government to defend our homeland, focused the FBI on preventing terrorism, begun to reform our intelligence agencies, broken up terror cells across the country, expanded research on defenses against biological and chemical attack, improved border security, and trained more than a half-million first responders. Police and firefighters, air marshals, researchers, and so many others are working every day to make our homeland safer, and we thank them all. (Applause.) \n",
      "\n",
      "Our nation, working with allies and friends, has also confronted the enemy abroad, with measures that are determined, successful, and continuing. The al Qaeda terror network that attacked our country still has leaders -- but many of its top commanders have been removed. There are still governments that sponsor and harbor terrorists -- but their number has declined. There are still regimes seeking weapons of mass destruction -- but no longer without attention and without consequence. Our country is still the target of terrorists who want to kill many, and intimidate us all -- and we will stay on the offensive against them, until the fight is won. (Applause.) \n",
      "\n",
      "Pursuing our enemies is a vital commitment of the war on terror -- and I thank the Congress for providing our servicemen and women with the resources they have needed. During this time of war, we must continue to support our military and give them the tools for victory. (Applause.) \n",
      "\n",
      "Other nations around the globe have stood with us. In Afghanistan, an international force is helping provide security. In Iraq, 28 countries have troops on the ground, the United Nations and the European Union provided technical assistance for the elections, and NATO is leading a mission to help train Iraqi officers. We're cooperating with 60 governments in the Proliferation Security Initiative, to detect and stop the transit of dangerous materials. We're working closely with the governments in Asia to convince North Korea to abandon its nuclear ambitions. Pakistan, Saudi Arabia, and nine other countries have captured or detained al Qaeda terrorists. In the next four years, my administration will continue to build the coalitions that will defeat the dangers of our time. (Applause.) \n",
      "\n",
      "In the long-term, the peace we seek will only be achieved by eliminating the conditions that feed radicalism and ideologies of murder. If whole regions of the world remain in despair and grow in hatred, they will be the recruiting grounds for terror, and that terror will stalk America and other free nations for decades. The only force powerful enough to stop the rise of tyranny and terror, and replace hatred with hope, is the force of human freedom. (Applause.) Our enemies know this, and that is why the terrorist Zarqawi recently declared war on what he called the \"evil principle\" of democracy. And we've declared our own intention: America will stand with the allies of freedom to support democratic movements in the Middle East and beyond, with the ultimate goal of ending tyranny in our world. (Applause.) \n",
      "\n",
      "The United States has no right, no desire, and no intention to impose our form of government on anyone else. That is one of the main differences between us and our enemies. They seek to impose and expand an empire of oppression, in which a tiny group of brutal, self-appointed rulers control every aspect of every life. Our aim is to build and preserve a community of free and independent nations, with governments that answer to their citizens, and reflect their own cultures. And because democracies respect their own people and their neighbors, the advance of freedom will lead to peace. (Applause.) \n",
      "\n",
      "That advance has great momentum in our time -- shown by women voting in Afghanistan, and Palestinians choosing a new direction, and the people of Ukraine asserting their democratic rights and electing a president. We are witnessing landmark events in the history of liberty. And in the coming years, we will add to that story. (Applause.) \n",
      "\n",
      "The beginnings of reform and democracy in the Palestinian territories are now showing the power of freedom to break old patterns of violence and failure. Tomorrow morning, Secretary of State Rice departs on a trip that will take her to Israel and the West Bank for meetings with Prime Minister Sharon and President Abbas. She will discuss with them how we and our friends can help the Palestinian people end terror and build the institutions of a peaceful, independent, democratic state. To promote this democracy, I will ask Congress for $350 million to support Palestinian political, economic, and security reforms. The goal of two democratic states, Israel and Palestine, living side by side in peace, is within reach -- and America will help them achieve that goal. (Applause.) \n",
      "\n",
      "To promote peace and stability in the broader Middle East, the United States will work with our friends in the region to fight the common threat of terror, while we encourage a higher standard of freedom. Hopeful reform is already taking hold in an arc from Morocco to Jordan to Bahrain. The government of Saudi Arabia can demonstrate its leadership in the region by expanding the role of its people in determining their future. And the great and proud nation of Egypt, which showed the way toward peace in the Middle East, can now show the way toward democracy in the Middle East. (Applause.) \n",
      "\n",
      "To promote peace in the broader Middle East, we must confront regimes that continue to harbor terrorists and pursue weapons of mass murder. Syria still allows its territory, and parts of Lebanon, to be used by terrorists who seek to destroy every chance of peace in the region. You have passed, and we are applying, the Syrian Accountability Act -- and we expect the Syrian government to end all support for terror and open the door to freedom. (Applause.) Today, Iran remains the world's primary state sponsor of terror -- pursuing nuclear weapons while depriving its people of the freedom they seek and deserve. We are working with European allies to make clear to the Iranian regime that it must give up its uranium enrichment program and any plutonium reprocessing, and end its support for terror. And to the Iranian people, I say tonight: As you stand for your own liberty, America stands with you. (Applause.) \n",
      "\n",
      "Our generational commitment to the advance of freedom, especially in the Middle East, is now being tested and honored in Iraq. That country is a vital front in the war on terror, which is why the terrorists have chosen to make a stand there. Our men and women in uniform are fighting terrorists in Iraq, so we do not have to face them here at home. (Applause.) And the victory of freedom in Iraq will strengthen a new ally in the war on terror, inspire democratic reformers from Damascus to Tehran, bring more hope and progress to a troubled region, and thereby lift a terrible threat from the lives of our children and grandchildren. \n",
      "\n",
      "We will succeed because the Iraqi people value their own liberty -- as they showed the world last Sunday. (Applause.) Across Iraq, often at great risk, millions of citizens went to the polls and elected 275 men and women to represent them in a new Transitional National Assembly. A young woman in Baghdad told of waking to the sound of mortar fire on election day, and wondering if it might be too dangerous to vote. She said, \"Hearing those explosions, it occurred to me -- the insurgents are weak, they are afraid of democracy, they are losing. So I got my husband, and I got my parents, and we all came out and voted together.\" \n",
      "\n",
      "Americans recognize that spirit of liberty, because we share it. In any nation, casting your vote is an act of civic responsibility; for millions of Iraqis, it was also an act of personal courage, and they have earned the respect of us all. (Applause.) \n",
      "\n",
      "One of Iraq's leading democracy and human rights advocates is Safia Taleb al-Suhail. She says of her country, \"We were occupied for 35 years by Saddam Hussein. That was the real occupation. Thank you to the American people who paid the cost, but most of all, to the soldiers.\" Eleven years ago, Safia's father was assassinated by Saddam's intelligence service. Three days ago in Baghdad, Safia was finally able to vote for the leaders of her country -- and we are honored that she is with us tonight. (Applause.) \n",
      "\n",
      "The terrorists and insurgents are violently opposed to democracy, and will continue to attack it. Yet, the terrorists' most powerful myth is being destroyed. The whole world is seeing that the car bombers and assassins are not only fighting coalition forces, they are trying to destroy the hopes of Iraqis, expressed in free elections. And the whole world now knows that a small group of extremists will not overturn the will of the Iraqi people. (Applause.) \n",
      "\n",
      "We will succeed in Iraq because Iraqis are determined to fight for their own freedom, and to write their own history. As Prime Minister Allawi said in his speech to Congress last September, \"Ordinary Iraqis are anxious to shoulder all the security burdens of our country as quickly as possible.\" That is the natural desire of an independent nation, and it is also the stated mission of our coalition in Iraq. The new political situation in Iraq opens a new phase of our work in that country. \n",
      "\n",
      "At the recommendation of our commanders on the ground, and in consultation with the Iraqi government, we will increasingly focus our efforts on helping prepare more capable Iraqi security forces -- forces with skilled officers and an effective command structure. As those forces become more self-reliant and take on greater security responsibilities, America and its coalition partners will increasingly be in a supporting role. In the end, Iraqis must be able to defend their own country -- and we will help that proud, new nation secure its liberty. \n",
      "\n",
      "Recently an Iraqi interpreter said to a reporter, \"Tell America not to abandon us.\" He and all Iraqis can be certain: While our military strategy is adapting to circumstances, our commitment remains firm and unchanging. We are standing for the freedom of our Iraqi friends, and freedom in Iraq will make America safer for generations to come. (Applause.) We will not set an artificial timetable for leaving Iraq, because that would embolden the terrorists and make them believe they can wait us out. We are in Iraq to achieve a result: A country that is democratic, representative of all its people, at peace with its neighbors, and able to defend itself. And when that result is achieved, our men and women serving in Iraq will return home with the honor they have earned. (Applause.) \n",
      "\n",
      "Right now, Americans in uniform are serving at posts across the world, often taking great risks on my orders. We have given them training and equipment; and they have given us an example of idealism and character that makes every American proud. (Applause.) The volunteers of our military are unrelenting in battle, unwavering in loyalty, unmatched in honor and decency, and every day they're making our nation more secure. Some of our servicemen and women have survived terrible injuries, and this grateful country will do everything we can to help them recover. (Applause.) And we have said farewell to some very good men and women, who died for our freedom, and whose memory this nation will honor forever. \n",
      "\n",
      "One name we honor is Marine Corps Sergeant Byron Norwood of Pflugerville, Texas, who was killed during the assault on Fallujah. His mom, Janet, sent me a letter and told me how much Byron loved being a Marine, and how proud he was to be on the front line against terror. She wrote, \"When Byron was home the last time, I said that I wanted to protect him like I had since he was born. He just hugged me and said, 'You've done your job, Mom. Now it is my turn to protect you.'\" Ladies and gentlemen, with grateful hearts, we honor freedom's defenders, and our military families, represented here this evening by Sergeant Norwood's mom and dad, Janet and Bill Norwood. (Applause.) \n",
      "\n",
      "In these four years, Americans have seen the unfolding of large events. We have known times of sorrow, and hours of uncertainty, and days of victory. In all this history, even when we have disagreed, we have seen threads of purpose that unite us. The attack on freedom in our world has reaffirmed our confidence in freedom's power to change the world. We are all part of a great venture: To extend the promise of freedom in our country, to renew the values that sustain our liberty, and to spread the peace that freedom brings. \n",
      "\n",
      "As Franklin Roosevelt once reminded Americans, \"Each age is a dream that is dying, or one that is coming to birth.\" And we live in the country where the biggest dreams are born. The abolition of slavery was only a dream -- until it was fulfilled. The liberation of Europe from fascism was only a dream -- until it was achieved. The fall of imperial communism was only a dream -- until, one day, it was accomplished. Our generation has dreams of its own, and we also go forward with confidence. The road of Providence is uneven and unpredictable -- yet we know where it leads: It leads to freedom. \n",
      "\n",
      "Thank you, and may God bless America. (Applause.) \n",
      "\n",
      "END 10:03 P.M. EST \n",
      "\n"
     ]
    }
   ],
   "source": [
    "print(training_tok)"
   ]
  },
  {
   "cell_type": "markdown",
   "metadata": {},
   "source": [
    "#### With the training text we can train the Punkt Sentence Tokenizer\n"
   ]
  },
  {
   "cell_type": "code",
   "execution_count": 15,
   "metadata": {},
   "outputs": [],
   "source": [
    "custom_tok=PunktSentenceTokenizer(training_tok)"
   ]
  },
  {
   "cell_type": "markdown",
   "metadata": {},
   "source": [
    "#### We Will now Tokenize the sample text\n"
   ]
  },
  {
   "cell_type": "code",
   "execution_count": 16,
   "metadata": {},
   "outputs": [],
   "source": [
    "tokenized=custom_tok.tokenize(actual_tok)"
   ]
  },
  {
   "cell_type": "code",
   "execution_count": 17,
   "metadata": {},
   "outputs": [
    {
     "name": "stdout",
     "output_type": "stream",
     "text": [
      "[\"PRESIDENT GEORGE W. BUSH'S ADDRESS BEFORE A JOINT SESSION OF THE CONGRESS ON THE STATE OF THE UNION\\n \\nJanuary 31, 2006\\n\\nTHE PRESIDENT: Thank you all.\", 'Mr. Speaker, Vice President Cheney, members of Congress, members of the Supreme Court and diplomatic corps, distinguished guests, and fellow citizens: Today our nation lost a beloved, graceful, courageous woman who called America to its founding ideals and carried on a noble dream.', 'Tonight we are comforted by the hope of a glad reunion with the husband who was taken so long ago, and we are grateful for the good life of Coretta Scott King.', '(Applause.)', 'President George W. Bush reacts to applause during his State of the Union Address at the Capitol, Tuesday, Jan.', '31, 2006.', \"White House photo by Eric DraperEvery time I'm invited to this rostrum, I'm humbled by the privilege, and mindful of the history we've seen together.\", 'We have gathered under this Capitol dome in moments of national mourning and national achievement.', 'We have served America through one of the most consequential periods of our history -- and it has been my honor to serve with you.', 'In a system of two parties, two chambers, and two elected branches, there will always be differences and debate.', 'But even tough debates can be conducted in a civil tone, and our differences cannot be allowed to harden into anger.', 'To confront the great issues before us, we must act in a spirit of goodwill and respect for one another -- and I will do my part.', 'Tonight the state of our Union is strong -- and together we will make it stronger.', '(Applause.)', 'In this decisive year, you and I will make choices that determine both the future and the character of our country.', 'We will choose to act confidently in pursuing the enemies of freedom -- or retreat from our duties in the hope of an easier life.', 'We will choose to build our prosperity by leading the world economy -- or shut ourselves off from trade and opportunity.', 'In a complex and challenging time, the road of isolationism and protectionism may seem broad and inviting -- yet it ends in danger and decline.', 'The only way to protect our people, the only way to secure the peace, the only way to control our destiny is by our leadership -- so the United States of America will continue to lead.', '(Applause.)', 'Abroad, our nation is committed to an historic, long-term goal -- we seek the end of tyranny in our world.', 'Some dismiss that goal as misguided idealism.', 'In reality, the future security of America depends on it.', 'On September the 11th, 2001, we found that problems originating in a failed and oppressive state 7,000 miles away could bring murder and destruction to our country.', 'Dictatorships shelter terrorists, and feed resentment and radicalism, and seek weapons of mass destruction.', 'Democracies replace resentment with hope, respect the rights of their citizens and their neighbors, and join the fight against terror.', \"Every step toward freedom in the world makes our country safer -- so we will act boldly in freedom's cause.\", '(Applause.)', 'Far from being a hopeless dream, the advance of freedom is the great story of our time.', 'In 1945, there were about two dozen lonely democracies in the world.', 'Today, there are 122.', \"And we're writing a new chapter in the story of self-government -- with women lining up to vote in Afghanistan, and millions of Iraqis marking their liberty with purple ink, and men and women from Lebanon to Egypt debating the rights of individuals and the necessity of freedom.\", 'At the start of 2006, more than half the people of our world live in democratic nations.', 'And we do not forget the other half -- in places like Syria and Burma, Zimbabwe, North Korea, and Iran -- because the demands of justice, and the peace of this world, require their freedom, as well.', '(Applause.)', 'President George W. Bush delivers his State of the Union Address at the Capitol, Tuesday, Jan.', '31, 2006.', 'White House photo by Eric Draper No one can deny the success of freedom, but some men rage and fight against it.', 'And one of the main sources of reaction and opposition is radical Islam -- the perversion by a few of a noble faith into an ideology of terror and death.', 'Terrorists like bin Laden are serious about mass murder -- and all of us must take their declared intentions seriously.', 'They seek to impose a heartless system of totalitarian control throughout the Middle East, and arm themselves with weapons of mass murder.', 'Their aim is to seize power in Iraq, and use it as a safe haven to launch attacks against America and the world.', 'Lacking the military strength to challenge us directly, the terrorists have chosen the weapon of fear.', 'When they murder children at a school in Beslan, or blow up commuters in London, or behead a bound captive, the terrorists hope these horrors will break our will, allowing the violent to inherit the Earth.', 'But they have miscalculated: We love our freedom, and we will fight to keep it.', '(Applause.)', 'In a time of testing, we cannot find security by abandoning our commitments and retreating within our borders.', 'If we were to leave these vicious attackers alone, they would not leave us alone.', 'They would simply move the battlefield to our own shores.', 'There is no peace in retreat.', 'And there is no honor in retreat.', 'By allowing radical Islam to work its will -- by leaving an assaulted world to fend for itself -- we would signal to all that we no longer believe in our own ideals, or even in our own courage.', 'But our enemies and our friends can be certain: The United States will not retreat from the world, and we will never surrender to evil.', '(Applause.)', 'America rejects the false comfort of isolationism.', 'We are the nation that saved liberty in Europe, and liberated death camps, and helped raise up democracies, and faced down an evil empire.', 'Once again, we accept the call of history to deliver the oppressed and move this world toward peace.', 'We remain on the offensive against terror networks.', 'We have killed or captured many of their leaders -- and for the others, their day will come.', 'President George W. Bush greets members of Congress after his State of the Union Address at the Capitol, Tuesday, Jan.', '31, 2006.', 'White House photo by Eric Draper We remain on the offensive in Afghanistan, where a fine President and a National Assembly are fighting terror while building the institutions of a new democracy.', \"We're on the offensive in Iraq, with a clear plan for victory.\", \"First, we're helping Iraqis build an inclusive government, so that old resentments will be eased and the insurgency will be marginalized.\", \"Second, we're continuing reconstruction efforts, and helping the Iraqi government to fight corruption and build a modern economy, so all Iraqis can experience the benefits of freedom.\", \"And, third, we're striking terrorist targets while we train Iraqi forces that are increasingly capable of defeating the enemy.\", 'Iraqis are showing their courage every day, and we are proud to be their allies in the cause of freedom.', '(Applause.)', 'Our work in Iraq is difficult because our enemy is brutal.', 'But that brutality has not stopped the dramatic progress of a new democracy.', 'In less than three years, the nation has gone from dictatorship to liberation, to sovereignty, to a constitution, to national elections.', 'At the same time, our coalition has been relentless in shutting off terrorist infiltration, clearing out insurgent strongholds, and turning over territory to Iraqi security forces.', 'I am confident in our plan for victory; I am confident in the will of the Iraqi people; I am confident in the skill and spirit of our military.', 'Fellow citizens, we are in this fight to win, and we are winning.', '(Applause.)', 'The road of victory is the road that will take our troops home.', 'As we make progress on the ground, and Iraqi forces increasingly take the lead, we should be able to further decrease our troop levels -- but those decisions will be made by our military commanders, not by politicians in Washington, D.C.', '(Applause.)', 'Our coalition has learned from our experience in Iraq.', \"We've adjusted our military tactics and changed our approach to reconstruction.\", 'Along the way, we have benefitted from responsible criticism and counsel offered by members of Congress of both parties.', 'In the coming year, I will continue to reach out and seek your good advice.', 'Yet, there is a difference between responsible criticism that aims for success, and defeatism that refuses to acknowledge anything but failure.', '(Applause.)', 'Hindsight alone is not wisdom, and second-guessing is not a strategy.', '(Applause.)', 'With so much in the balance, those of us in public office have a duty to speak with candor.', 'A sudden withdrawal of our forces from Iraq would abandon our Iraqi allies to death and prison, would put men like bin Laden and Zarqawi in charge of a strategic country, and show that a pledge from America means little.', 'Members of Congress, however we feel about the decisions and debates of the past, our nation has only one option: We must keep our word, defeat our enemies, and stand behind the American military in this vital mission.', '(Applause.)', 'Laura Bush is applauded as she is introduced Tuesday evening, Jan.', '31, 2006 during the State of the Union Address at United States Capitol in Washington.', 'White House photo by Eric Draper Our men and women in uniform are making sacrifices -- and showing a sense of duty stronger than all fear.', \"They know what it's like to fight house to house in a maze of streets, to wear heavy gear in the desert heat, to see a comrade killed by a roadside bomb.\", 'And those who know the costs also know the stakes.', 'Marine Staff Sergeant Dan Clay was killed last month fighting in Fallujah.', 'He left behind a letter to his family, but his words could just as well be addressed to every American.', 'Here is what Dan wrote: \"I know what honor is.', '... It has been an honor to protect and serve all of you.', 'I faced death with the secure knowledge that you would not have to....', 'Never falter!', 'Don\\'t hesitate to honor and support those of us who have the honor of protecting that which is worth protecting.\"', \"Staff Sergeant Dan Clay's wife, Lisa, and his mom and dad, Sara Jo and Bud, are with us this evening.\", 'Welcome.', '(Applause.)', 'Our nation is grateful to the fallen, who live in the memory of our country.', \"We're grateful to all who volunteer to wear our nation's uniform -- and as we honor our brave troops, let us never forget the sacrifices of America's military families.\", '(Applause.)', 'Our offensive against terror involves more than military action.', 'Ultimately, the only way to defeat the terrorists is to defeat their dark vision of hatred and fear by offering the hopeful alternative of political freedom and peaceful change.', 'So the United States of America supports democratic reform across the broader Middle East.', 'Elections are vital, but they are only the beginning.', 'Raising up a democracy requires the rule of law, and protection of minorities, and strong, accountable institutions that last longer than a single vote.', 'The great people of Egypt have voted in a multi-party presidential election -- and now their government should open paths of peaceful opposition that will reduce the appeal of radicalism.', 'The Palestinian people have voted in elections.', 'And now the leaders of Hamas must recognize Israel, disarm, reject terrorism, and work for lasting peace.', '(Applause.)', 'Saudi Arabia has taken the first steps of reform -- now it can offer its people a better future by pressing forward with those efforts.', 'Democracies in the Middle East will not look like our own, because they will reflect the traditions of their own citizens.', 'Yet liberty is the future of every nation in the Middle East, because liberty is the right and hope of all humanity.', '(Applause.)', 'President George W. Bush waves toward the upper visitors gallery of the House Chamber following his State of the Union remarks Tuesday, Jan.', '31, 2006 at the United States Capitol.', 'White House photo by Eric Draper The same is true of Iran, a nation now held hostage by a small clerical elite that is isolating and repressing its people.', 'The regime in that country sponsors terrorists in the Palestinian territories and in Lebanon -- and that must come to an end.', '(Applause.)', 'The Iranian government is defying the world with its nuclear ambitions, and the nations of the world must not permit the Iranian regime to gain nuclear weapons.', '(Applause.)', 'America will continue to rally the world to confront these threats.', 'Tonight, let me speak directly to the citizens of Iran: America respects you, and we respect your country.', 'We respect your right to choose your own future and win your own freedom.', 'And our nation hopes one day to be the closest of friends with a free and democratic Iran.', '(Applause.)', 'To overcome dangers in our world, we must also take the offensive by encouraging economic progress, and fighting disease, and spreading hope in hopeless lands.', 'Isolationism would not only tie our hands in fighting enemies, it would keep us from helping our friends in desperate need.', 'We show compassion abroad because Americans believe in the God-given dignity and worth of a villager with HIV/AIDS, or an infant with malaria, or a refugee fleeing genocide, or a young girl sold into slavery.', 'We also show compassion abroad because regions overwhelmed by poverty, corruption, and despair are sources of terrorism, and organized crime, and human trafficking, and the drug trade.', 'In recent years, you and I have taken unprecedented action to fight AIDS and malaria, expand the education of girls, and reward developing nations that are moving forward with economic and political reform.', 'For people everywhere, the United States is a partner for a better life.', 'Short-changing these efforts would increase the suffering and chaos of our world, undercut our long-term security, and dull the conscience of our country.', 'I urge members of Congress to serve the interests of America by showing the compassion of America.', 'Our country must also remain on the offensive against terrorism here at home.', 'The enemy has not lost the desire or capability to attack us.', 'Fortunately, this nation has superb professionals in law enforcement, intelligence, the military, and homeland security.', 'These men and women are dedicating their lives, protecting us all, and they deserve our support and our thanks.', '(Applause.)', 'They also deserve the same tools they already use to fight drug trafficking and organized crime -- so I ask you to reauthorize the Patriot Act.', '(Applause.)', 'It is said that prior to the attacks of September the 11th, our government failed to connect the dots of the conspiracy.', 'We now know that two of the hijackers in the United States placed telephone calls to al Qaeda operatives overseas.', 'But we did not know about their plans until it was too late.', 'So to prevent another attack -- based on authority given to me by the Constitution and by statute -- I have authorized a terrorist surveillance program to aggressively pursue the international communications of suspected al Qaeda operatives and affiliates to and from America.', 'Previous Presidents have used the same constitutional authority I have, and federal courts have approved the use of that authority.', 'Appropriate members of Congress have been kept informed.', 'The terrorist surveillance program has helped prevent terrorist attacks.', 'It remains essential to the security of America.', 'If there are people inside our country who are talking with al Qaeda, we want to know about it, because we will not sit back and wait to be hit again.', '(Applause.)', 'In all these areas -- from the disruption of terror networks, to victory in Iraq, to the spread of freedom and hope in troubled regions -- we need the support of our friends and allies.', 'To draw that support, we must always be clear in our principles and willing to act.', 'The only alternative to American leadership is a dramatically more dangerous and anxious world.', 'Yet we also choose to lead because it is a privilege to serve the values that gave us birth.', 'American leaders -- from Roosevelt to Truman to Kennedy to Reagan -- rejected isolation and retreat, because they knew that America is always more secure when freedom is on the march.', 'Our own generation is in a long war against a determined enemy -- a war that will be fought by Presidents of both parties, who will need steady bipartisan support from the Congress.', 'And tonight I ask for yours.', 'Together, let us protect our country, support the men and women who defend us, and lead this world toward freedom.', '(Applause.)', 'Here at home, America also has a great opportunity: We will build the prosperity of our country by strengthening our economic leadership in the world.', 'Our economy is healthy and vigorous, and growing faster than other major industrialized nations.', 'In the last two-and-a-half years, America has created 4.6 million new jobs -- more than Japan and the European Union combined.', '(Applause.)', 'Even in the face of higher energy prices and natural disasters, the American people have turned in an economic performance that is the envy of the world.', 'The American economy is preeminent, but we cannot afford to be complacent.', \"In a dynamic world economy, we are seeing new competitors, like China and India, and this creates uncertainty, which makes it easier to feed people's fears.\", \"So we're seeing some old temptations return.\", 'Protectionists want to escape competition, pretending that we can keep our high standard of living while walling off our economy.', 'Others say that the government needs to take a larger role in directing the economy, centralizing more power in Washington and increasing taxes.', 'We hear claims that immigrants are somehow bad for the economy -- even though this economy could not function without them.', '(Applause.)', 'All these are forms of economic retreat, and they lead in the same direction -- toward a stagnant and second-rate economy.', 'Tonight I will set out a better path: an agenda for a nation that competes with confidence; an agenda that will raise standards of living and generate new jobs.', 'Americans should not fear our economic future, because we intend to shape it.', 'Keeping America competitive begins with keeping our economy growing.', 'And our economy grows when Americans have more of their own money to spend, save, and invest.', 'In the last five years, the tax relief you passed has left $880 billion in the hands of American workers, investors, small businesses, and families -- and they have used it to help produce more than four years of uninterrupted economic growth.', '(Applause.)', 'Yet the tax relief is set to expire in the next few years.', 'If we do nothing, American families will face a massive tax increase they do not expect and will not welcome.', 'Because America needs more than a temporary expansion, we need more than temporary tax relief.', 'I urge the Congress to act responsibly, and make the tax cuts permanent.', '(Applause.)', 'Keeping America competitive requires us to be good stewards of tax dollars.', \"Every year of my presidency, we've reduced the growth of non-security discretionary spending, and last year you passed bills that cut this spending.\", 'This year my budget will cut it again, and reduce or eliminate more than 140 programs that are performing poorly or not fulfilling essential priorities.', 'By passing these reforms, we will save the American taxpayer another $14 billion next year, and stay on track to cut the deficit in half by 2009.', '(Applause.)', 'I am pleased that members of Congress are working on earmark reform, because the federal budget has too many special interest projects.', '(Applause.)', 'And we can tackle this problem together, if you pass the line-item veto.', '(Applause.)', 'We must also confront the larger challenge of mandatory spending, or entitlements.', \"This year, the first of about 78 million baby boomers turn 60, including two of my Dad's favorite people -- me and President Clinton.\", '(Laughter.)', 'This milestone is more than a personal crisis -- (laughter) -- it is a national challenge.', 'The retirement of the baby boom generation will put unprecedented strains on the federal government.', 'By 2030, spending for Social Security, Medicare and Medicaid alone will be almost 60 percent of the entire federal budget.', 'And that will present future Congresses with impossible choices -- staggering tax increases, immense deficits, or deep cuts in every category of spending.', 'Congress did not act last year on my proposal to save Social Security -- (applause) -- yet the rising cost of entitlements is a problem that is not going away.', '(Applause.)', 'And every year we fail to act, the situation gets worse.', 'So tonight, I ask you to join me in creating a commission to examine the full impact of baby boom retirements on Social Security, Medicare, and Medicaid.', 'This commission should include members of Congress of both parties, and offer bipartisan solutions.', 'We need to put aside partisan politics and work together and get this problem solved.', '(Applause.)', 'Keeping America competitive requires us to open more markets for all that Americans make and grow.', 'One out of every five factory jobs in America is related to global trade, and we want people everywhere to buy American.', 'With open markets and a level playing field, no one can out-produce or out-compete the American worker.', '(Applause.)', 'Keeping America competitive requires an immigration system that upholds our laws, reflects our values, and serves the interests of our economy.', 'Our nation needs orderly and secure borders.', '(Applause.)', 'To meet this goal, we must have stronger immigration enforcement and border protection.', '(Applause.)', 'And we must have a rational, humane guest worker program that rejects amnesty, allows temporary jobs for people who seek them legally, and reduces smuggling and crime at the border.', '(Applause.)', 'Keeping America competitive requires affordable health care.', '(Applause.)', 'Our government has a responsibility to provide health care for the poor and the elderly, and we are meeting that responsibility.', '(Applause.)', 'For all Americans -- for all Americans, we must confront the rising cost of care, strengthen the doctor-patient relationship, and help people afford the insurance coverage they need.', '(Applause.)', 'We will make wider use of electronic records and other health information technology, to help control costs and reduce dangerous medical errors.', 'We will strengthen health savings accounts -- making sure individuals and small business employees can buy insurance with the same advantages that people working for big businesses now get.', '(Applause.)', 'We will do more to make this coverage portable, so workers can switch jobs without having to worry about losing their health insurance.', '(Applause.)', 'And because lawsuits are driving many good doctors out of practice -- leaving women in nearly 1,500 American counties without a single OB/GYN -- I ask the Congress to pass medical liability reform this year.', '(Applause.)', 'Keeping America competitive requires affordable energy.', 'And here we have a serious problem: America is addicted to oil, which is often imported from unstable parts of the world.', 'The best way to break this addiction is through technology.', 'Since 2001, we have spent nearly $10 billion to develop cleaner, cheaper, and more reliable alternative energy sources -- and we are on the threshold of incredible advances.', 'So tonight, I announce the Advanced Energy Initiative -- a 22-percent increase in clean-energy research -- at the Department of Energy, to push for breakthroughs in two vital areas.', 'To change how we power our homes and offices, we will invest more in zero-emission coal-fired plants, revolutionary solar and wind technologies, and clean, safe nuclear energy.', '(Applause.)', 'We must also change how we power our automobiles.', 'We will increase our research in better batteries for hybrid and electric cars, and in pollution-free cars that run on hydrogen.', \"We'll also fund additional research in cutting-edge methods of producing ethanol, not just from corn, but from wood chips and stalks, or switch grass.\", 'Our goal is to make this new kind of ethanol practical and competitive within six years.', '(Applause.)', 'Breakthroughs on this and other new technologies will help us reach another great goal: to replace more than 75 percent of our oil imports from the Middle East by 2025.', '(Applause.)', 'By applying the talent and technology of America, this country can dramatically improve our environment, move beyond a petroleum-based economy, and make our dependence on Middle Eastern oil a thing of the past.', '(Applause.)', 'And to keep America competitive, one commitment is necessary above all: We must continue to lead the world in human talent and creativity.', \"Our greatest advantage in the world has always been our educated, hardworking, ambitious people -- and we're going to keep that edge.\", \"Tonight I announce an American Competitiveness Initiative, to encourage innovation throughout our economy, and to give our nation's children a firm grounding in math and science.\", '(Applause.)', 'First, I propose to double the federal commitment to the most critical basic research programs in the physical sciences over the next 10 years.', \"This funding will support the work of America's most creative minds as they explore promising areas such as nanotechnology, supercomputing, and alternative energy sources.\", 'Second, I propose to make permanent the research and development tax credit -- (applause) -- to encourage bolder private-sector initiatives in technology.', 'With more research in both the public and private sectors, we will improve our quality of life -- and ensure that America will lead the world in opportunity and innovation for decades to come.', '(Applause.)', 'Third, we need to encourage children to take more math and science, and to make sure those courses are rigorous enough to compete with other nations.', \"We've made a good start in the early grades with the No Child Left Behind Act, which is raising standards and lifting test scores across our country.\", 'Tonight I propose to train 70,000 high school teachers to lead advanced-placement courses in math and science, bring 30,000 math and science professionals to teach in classrooms, and give early help to students who struggle with math, so they have a better chance at good, high-wage jobs.', \"If we ensure that America's children succeed in life, they will ensure that America succeeds in the world.\", '(Applause.)', 'Preparing our nation to compete in the world is a goal that all of us can share.', 'I urge you to support the American Competitiveness Initiative, and together we will show the world what the American people can achieve.', 'America is a great force for freedom and prosperity.', 'Yet our greatness is not measured in power or luxuries, but by who we are and how we treat one another.', 'So we strive to be a compassionate, decent, hopeful society.', 'In recent years, America has become a more hopeful nation.', 'Violent crime rates have fallen to their lowest levels since the 1970s.', 'Welfare cases have dropped by more than half over the past decade.', 'Drug use among youth is down 19 percent since 2001.', 'There are fewer abortions in America than at any point in the last three decades, and the number of children born to teenage mothers has been falling for a dozen years in a row.', '(Applause.)', 'These gains are evidence of a quiet transformation -- a revolution of conscience, in which a rising generation is finding that a life of personal responsibility is a life of fulfillment.', 'Government has played a role.', 'Wise policies, such as welfare reform and drug education and support for abstinence and adoption have made a difference in the character of our country.', 'And everyone here tonight, Democrat and Republican, has a right to be proud of this record.', '(Applause.)', 'Yet many Americans, especially parents, still have deep concerns about the direction of our culture, and the health of our most basic institutions.', \"They're concerned about unethical conduct by public officials, and discouraged by activist courts that try to redefine marriage.\", 'They worry about children in our society who need direction and love, and about fellow citizens still displaced by natural disaster, and about suffering caused by treatable diseases.', 'As we look at these challenges, we must never give in to the belief that America is in decline, or that our culture is doomed to unravel.', 'The American people know better than that.', 'We have proven the pessimists wrong before -- and we will do it again.', '(Applause.)', 'A hopeful society depends on courts that deliver equal justice under the law.', 'The Supreme Court now has two superb new members -- new members on its bench: Chief Justice John Roberts and Justice Sam Alito.', '(Applause.)', 'I thank the Senate for confirming both of them.', 'I will continue to nominate men and women who understand that judges must be servants of the law, and not legislate from the bench.', '(Applause.)', 'Today marks the official retirement of a very special American.', \"For 24 years of faithful service to our nation, the United States is grateful to Justice Sandra Day O'Connor.\", '(Applause.)', 'A hopeful society has institutions of science and medicine that do not cut ethical corners, and that recognize the matchless value of every life.', 'Tonight I ask you to pass legislation to prohibit the most egregious abuses of medical research: human cloning in all its forms, creating or implanting embryos for experiments, creating human-animal hybrids, and buying, selling, or patenting human embryos.', 'Human life is a gift from our Creator -- and that gift should never be discarded, devalued or put up for sale.', '(Applause.)', 'A hopeful society expects elected officials to uphold the public trust.', '(Applause.)', 'Honorable people in both parties are working on reforms to strengthen the ethical standards of Washington -- I support your efforts.', 'Each of us has made a pledge to be worthy of public responsibility -- and that is a pledge we must never forget, never dismiss, and never betray.', '(Applause.)', 'As we renew the promise of our institutions, let us also show the character of America in our compassion and care for one another.', 'A hopeful society gives special attention to children who lack direction and love.', \"Through the Helping America's Youth Initiative, we are encouraging caring adults to get involved in the life of a child -- and this good work is being led by our First Lady, Laura Bush.\", '(Applause.)', \"This year we will add resources to encourage young people to stay in school, so more of America's youth can raise their sights and achieve their dreams.\", \"A hopeful society comes to the aid of fellow citizens in times of suffering and emergency -- and stays at it until they're back on their feet.\", 'So far the federal government has committed $85 billion to the people of the Gulf Coast and New Orleans.', \"We're removing debris and repairing highways and rebuilding stronger levees.\", \"We're providing business loans and housing assistance.\", 'Yet as we meet these immediate needs, we must also address deeper challenges that existed before the storm arrived.', 'In New Orleans and in other places, many of our fellow citizens have felt excluded from the promise of our country.', 'The answer is not only temporary relief, but schools that teach every child, and job skills that bring upward mobility, and more opportunities to own a home and start a business.', 'As we recover from a disaster, let us also work for the day when all Americans are protected by justice, equal in hope, and rich in opportunity.', '(Applause.)', 'A hopeful society acts boldly to fight diseases like HIV/AIDS, which can be prevented, and treated, and defeated.', 'More than a million Americans live with HIV, and half of all AIDS cases occur among African Americans.', 'I ask Congress to reform and reauthorize the Ryan White Act, and provide new funding to states, so we end the waiting lists for AIDS medicines in America.', '(Applause.)', 'We will also lead a nationwide effort, working closely with African American churches and faith-based groups, to deliver rapid HIV tests to millions, end the stigma of AIDS, and come closer to the day when there are no new infections in America.', '(Applause.)', \"Fellow citizens, we've been called to leadership in a period of consequence.\", \"We've entered a great ideological conflict we did nothing to invite.\", 'We see great changes in science and commerce that will influence all our lives.', 'Sometimes it can seem that history is turning in a wide arc, toward an unknown shore.', 'Yet the destination of history is determined by human action, and every great movement of history comes to a point of choosing.', 'Lincoln could have accepted peace at the cost of disunity and continued slavery.', 'Martin Luther King could have stopped at Birmingham or at Selma, and achieved only half a victory over segregation.', 'The United States could have accepted the permanent division of Europe, and been complicit in the oppression of others.', 'Today, having come far in our own historical journey, we must decide: Will we turn back, or finish well?', 'Before history is written down in books, it is written in courage.', 'Like Americans before us, we will show that courage and we will finish well.', \"We will lead freedom's advance.\", 'We will compete and excel in the global economy.', 'We will renew the defining moral commitments of this land.', 'And so we move forward -- optimistic about our country, faithful to its cause, and confident of the victories to come.', 'May God bless America.', '(Applause.)']\n"
     ]
    }
   ],
   "source": [
    "print(tokenized)"
   ]
  },
  {
   "cell_type": "markdown",
   "metadata": {},
   "source": [
    "#### Part of speech tagging"
   ]
  },
  {
   "cell_type": "code",
   "execution_count": 18,
   "metadata": {},
   "outputs": [
    {
     "name": "stdout",
     "output_type": "stream",
     "text": [
      "[('PRESIDENT', 'NNP'), ('GEORGE', 'NNP'), ('W.', 'NNP'), ('BUSH', 'NNP'), (\"'S\", 'POS'), ('ADDRESS', 'NNP'), ('BEFORE', 'IN'), ('A', 'NNP'), ('JOINT', 'NNP'), ('SESSION', 'NNP'), ('OF', 'IN'), ('THE', 'NNP'), ('CONGRESS', 'NNP'), ('ON', 'NNP'), ('THE', 'NNP'), ('STATE', 'NNP'), ('OF', 'IN'), ('THE', 'NNP'), ('UNION', 'NNP'), ('January', 'NNP'), ('31', 'CD'), (',', ','), ('2006', 'CD'), ('THE', 'NNP'), ('PRESIDENT', 'NNP'), (':', ':'), ('Thank', 'NNP'), ('you', 'PRP'), ('all', 'DT'), ('.', '.')]\n",
      "[('Mr.', 'NNP'), ('Speaker', 'NNP'), (',', ','), ('Vice', 'NNP'), ('President', 'NNP'), ('Cheney', 'NNP'), (',', ','), ('members', 'NNS'), ('of', 'IN'), ('Congress', 'NNP'), (',', ','), ('members', 'NNS'), ('of', 'IN'), ('the', 'DT'), ('Supreme', 'NNP'), ('Court', 'NNP'), ('and', 'CC'), ('diplomatic', 'JJ'), ('corps', 'NN'), (',', ','), ('distinguished', 'JJ'), ('guests', 'NNS'), (',', ','), ('and', 'CC'), ('fellow', 'JJ'), ('citizens', 'NNS'), (':', ':'), ('Today', 'VB'), ('our', 'PRP$'), ('nation', 'NN'), ('lost', 'VBD'), ('a', 'DT'), ('beloved', 'VBN'), (',', ','), ('graceful', 'JJ'), (',', ','), ('courageous', 'JJ'), ('woman', 'NN'), ('who', 'WP'), ('called', 'VBD'), ('America', 'NNP'), ('to', 'TO'), ('its', 'PRP$'), ('founding', 'NN'), ('ideals', 'NNS'), ('and', 'CC'), ('carried', 'VBD'), ('on', 'IN'), ('a', 'DT'), ('noble', 'JJ'), ('dream', 'NN'), ('.', '.')]\n",
      "[('Tonight', 'NN'), ('we', 'PRP'), ('are', 'VBP'), ('comforted', 'VBN'), ('by', 'IN'), ('the', 'DT'), ('hope', 'NN'), ('of', 'IN'), ('a', 'DT'), ('glad', 'JJ'), ('reunion', 'NN'), ('with', 'IN'), ('the', 'DT'), ('husband', 'NN'), ('who', 'WP'), ('was', 'VBD'), ('taken', 'VBN'), ('so', 'RB'), ('long', 'RB'), ('ago', 'RB'), (',', ','), ('and', 'CC'), ('we', 'PRP'), ('are', 'VBP'), ('grateful', 'JJ'), ('for', 'IN'), ('the', 'DT'), ('good', 'JJ'), ('life', 'NN'), ('of', 'IN'), ('Coretta', 'NNP'), ('Scott', 'NNP'), ('King', 'NNP'), ('.', '.')]\n",
      "[('(', '('), ('Applause', 'NNP'), ('.', '.'), (')', ')')]\n",
      "[('President', 'NNP'), ('George', 'NNP'), ('W.', 'NNP'), ('Bush', 'NNP'), ('reacts', 'VBZ'), ('to', 'TO'), ('applause', 'VB'), ('during', 'IN'), ('his', 'PRP$'), ('State', 'NNP'), ('of', 'IN'), ('the', 'DT'), ('Union', 'NNP'), ('Address', 'NNP'), ('at', 'IN'), ('the', 'DT'), ('Capitol', 'NNP'), (',', ','), ('Tuesday', 'NNP'), (',', ','), ('Jan', 'NNP'), ('.', '.')]\n"
     ]
    }
   ],
   "source": [
    "def process_content():\n",
    "    try:\n",
    "        for i in tokenized[:5]:\n",
    "            words=nltk.word_tokenize(i)\n",
    "            tag=nltk.pos_tag(words)\n",
    "            print(tag)\n",
    "    except Exception as e:\n",
    "        print(str(e))\n",
    "process_content()"
   ]
  },
  {
   "cell_type": "markdown",
   "metadata": {},
   "source": [
    "##### Index for parts of speech"
   ]
  },
  {
   "cell_type": "code",
   "execution_count": 19,
   "metadata": {},
   "outputs": [
    {
     "name": "stdout",
     "output_type": "stream",
     "text": [
      "$: dollar\n",
      "    $ -$ --$ A$ C$ HK$ M$ NZ$ S$ U.S.$ US$\n",
      "'': closing quotation mark\n",
      "    ' ''\n",
      "(: opening parenthesis\n",
      "    ( [ {\n",
      "): closing parenthesis\n",
      "    ) ] }\n",
      ",: comma\n",
      "    ,\n",
      "--: dash\n",
      "    --\n",
      ".: sentence terminator\n",
      "    . ! ?\n",
      ":: colon or ellipsis\n",
      "    : ; ...\n",
      "CC: conjunction, coordinating\n",
      "    & 'n and both but either et for less minus neither nor or plus so\n",
      "    therefore times v. versus vs. whether yet\n",
      "CD: numeral, cardinal\n",
      "    mid-1890 nine-thirty forty-two one-tenth ten million 0.5 one forty-\n",
      "    seven 1987 twenty '79 zero two 78-degrees eighty-four IX '60s .025\n",
      "    fifteen 271,124 dozen quintillion DM2,000 ...\n",
      "DT: determiner\n",
      "    all an another any both del each either every half la many much nary\n",
      "    neither no some such that the them these this those\n",
      "EX: existential there\n",
      "    there\n",
      "FW: foreign word\n",
      "    gemeinschaft hund ich jeux habeas Haementeria Herr K'ang-si vous\n",
      "    lutihaw alai je jour objets salutaris fille quibusdam pas trop Monte\n",
      "    terram fiche oui corporis ...\n",
      "IN: preposition or conjunction, subordinating\n",
      "    astride among uppon whether out inside pro despite on by throughout\n",
      "    below within for towards near behind atop around if like until below\n",
      "    next into if beside ...\n",
      "JJ: adjective or numeral, ordinal\n",
      "    third ill-mannered pre-war regrettable oiled calamitous first separable\n",
      "    ectoplasmic battery-powered participatory fourth still-to-be-named\n",
      "    multilingual multi-disciplinary ...\n",
      "JJR: adjective, comparative\n",
      "    bleaker braver breezier briefer brighter brisker broader bumper busier\n",
      "    calmer cheaper choosier cleaner clearer closer colder commoner costlier\n",
      "    cozier creamier crunchier cuter ...\n",
      "JJS: adjective, superlative\n",
      "    calmest cheapest choicest classiest cleanest clearest closest commonest\n",
      "    corniest costliest crassest creepiest crudest cutest darkest deadliest\n",
      "    dearest deepest densest dinkiest ...\n",
      "LS: list item marker\n",
      "    A A. B B. C C. D E F First G H I J K One SP-44001 SP-44002 SP-44005\n",
      "    SP-44007 Second Third Three Two * a b c d first five four one six three\n",
      "    two\n",
      "MD: modal auxiliary\n",
      "    can cannot could couldn't dare may might must need ought shall should\n",
      "    shouldn't will would\n",
      "NN: noun, common, singular or mass\n",
      "    common-carrier cabbage knuckle-duster Casino afghan shed thermostat\n",
      "    investment slide humour falloff slick wind hyena override subhumanity\n",
      "    machinist ...\n",
      "NNP: noun, proper, singular\n",
      "    Motown Venneboerger Czestochwa Ranzer Conchita Trumplane Christos\n",
      "    Oceanside Escobar Kreisler Sawyer Cougar Yvette Ervin ODI Darryl CTCA\n",
      "    Shannon A.K.C. Meltex Liverpool ...\n",
      "NNPS: noun, proper, plural\n",
      "    Americans Americas Amharas Amityvilles Amusements Anarcho-Syndicalists\n",
      "    Andalusians Andes Andruses Angels Animals Anthony Antilles Antiques\n",
      "    Apache Apaches Apocrypha ...\n",
      "NNS: noun, common, plural\n",
      "    undergraduates scotches bric-a-brac products bodyguards facets coasts\n",
      "    divestitures storehouses designs clubs fragrances averages\n",
      "    subjectivists apprehensions muses factory-jobs ...\n",
      "PDT: pre-determiner\n",
      "    all both half many quite such sure this\n",
      "POS: genitive marker\n",
      "    ' 's\n",
      "PRP: pronoun, personal\n",
      "    hers herself him himself hisself it itself me myself one oneself ours\n",
      "    ourselves ownself self she thee theirs them themselves they thou thy us\n",
      "PRP$: pronoun, possessive\n",
      "    her his mine my our ours their thy your\n",
      "RB: adverb\n",
      "    occasionally unabatingly maddeningly adventurously professedly\n",
      "    stirringly prominently technologically magisterially predominately\n",
      "    swiftly fiscally pitilessly ...\n",
      "RBR: adverb, comparative\n",
      "    further gloomier grander graver greater grimmer harder harsher\n",
      "    healthier heavier higher however larger later leaner lengthier less-\n",
      "    perfectly lesser lonelier longer louder lower more ...\n",
      "RBS: adverb, superlative\n",
      "    best biggest bluntest earliest farthest first furthest hardest\n",
      "    heartiest highest largest least less most nearest second tightest worst\n",
      "RP: particle\n",
      "    aboard about across along apart around aside at away back before behind\n",
      "    by crop down ever fast for forth from go high i.e. in into just later\n",
      "    low more off on open out over per pie raising start teeth that through\n",
      "    under unto up up-pp upon whole with you\n",
      "SYM: symbol\n",
      "    % & ' '' ''. ) ). * + ,. < = > @ A[fj] U.S U.S.S.R * ** ***\n",
      "TO: \"to\" as preposition or infinitive marker\n",
      "    to\n",
      "UH: interjection\n",
      "    Goodbye Goody Gosh Wow Jeepers Jee-sus Hubba Hey Kee-reist Oops amen\n",
      "    huh howdy uh dammit whammo shucks heck anyways whodunnit honey golly\n",
      "    man baby diddle hush sonuvabitch ...\n",
      "VB: verb, base form\n",
      "    ask assemble assess assign assume atone attention avoid bake balkanize\n",
      "    bank begin behold believe bend benefit bevel beware bless boil bomb\n",
      "    boost brace break bring broil brush build ...\n",
      "VBD: verb, past tense\n",
      "    dipped pleaded swiped regummed soaked tidied convened halted registered\n",
      "    cushioned exacted snubbed strode aimed adopted belied figgered\n",
      "    speculated wore appreciated contemplated ...\n",
      "VBG: verb, present participle or gerund\n",
      "    telegraphing stirring focusing angering judging stalling lactating\n",
      "    hankerin' alleging veering capping approaching traveling besieging\n",
      "    encrypting interrupting erasing wincing ...\n",
      "VBN: verb, past participle\n",
      "    multihulled dilapidated aerosolized chaired languished panelized used\n",
      "    experimented flourished imitated reunifed factored condensed sheared\n",
      "    unsettled primed dubbed desired ...\n",
      "VBP: verb, present tense, not 3rd person singular\n",
      "    predominate wrap resort sue twist spill cure lengthen brush terminate\n",
      "    appear tend stray glisten obtain comprise detest tease attract\n",
      "    emphasize mold postpone sever return wag ...\n",
      "VBZ: verb, present tense, 3rd person singular\n",
      "    bases reconstructs marks mixes displeases seals carps weaves snatches\n",
      "    slumps stretches authorizes smolders pictures emerges stockpiles\n",
      "    seduces fizzes uses bolsters slaps speaks pleads ...\n",
      "WDT: WH-determiner\n",
      "    that what whatever which whichever\n",
      "WP: WH-pronoun\n",
      "    that what whatever whatsoever which who whom whosoever\n",
      "WP$: WH-pronoun, possessive\n",
      "    whose\n",
      "WRB: Wh-adverb\n",
      "    how however whence whenever where whereby whereever wherein whereof why\n",
      "``: opening quotation mark\n",
      "    ` ``\n"
     ]
    }
   ],
   "source": [
    "nltk.help.upenn_tagset()"
   ]
  },
  {
   "cell_type": "code",
   "execution_count": 20,
   "metadata": {},
   "outputs": [
    {
     "name": "stdout",
     "output_type": "stream",
     "text": [
      "showing info https://raw.githubusercontent.com/nltk/nltk_data/gh-pages/index.xml\n"
     ]
    },
    {
     "data": {
      "text/plain": [
       "True"
      ]
     },
     "execution_count": 20,
     "metadata": {},
     "output_type": "execute_result"
    }
   ],
   "source": [
    "nltk.download()"
   ]
  },
  {
   "cell_type": "markdown",
   "metadata": {},
   "source": [
    "### Chunking with NLTK(Grouping)"
   ]
  },
  {
   "cell_type": "code",
   "execution_count": 21,
   "metadata": {},
   "outputs": [
    {
     "data": {
      "text/plain": [
       "'\\n+=match 1 or more\\n?=match 0 or 1 repititions\\n*=match 0 or more repititions\\n.=Any character except a new line\\n'"
      ]
     },
     "execution_count": 21,
     "metadata": {},
     "output_type": "execute_result"
    }
   ],
   "source": [
    "'''\n",
    "+=match 1 or more\n",
    "?=match 0 or 1 repititions\n",
    "*=match 0 or more repititions\n",
    ".=Any character except a new line\n",
    "'''"
   ]
  },
  {
   "cell_type": "code",
   "execution_count": 22,
   "metadata": {},
   "outputs": [],
   "source": [
    "training_tok=state_union.raw('2005-GWBush.txt')\n",
    "actual_tok=state_union.raw('2006-GWBush.txt')\n",
    "\n",
    "#Training the Punkt tokenizer\n",
    "custom_tok=PunktSentenceTokenizer(training_tok)\n",
    "\n",
    "#Tokenizing the text\n",
    "tokenized=custom_tok.tokenize(actual_tok)\n",
    "\n",
    "def process_content1():\n",
    "    try:\n",
    "        for i in tokenized[:2]:\n",
    "            words=nltk.word_tokenize(i)\n",
    "            tagged=nltk.pos_tag(words)\n",
    "            \n",
    "            #Combining parts of speech with regular expression\n",
    "            chunkgram=r\"\"\"Chunk:{<RB.?>*<VB.?>*<NNP>*<NN>?}\"\"\"\n",
    "            chunkParser=nltk.RegexpParser(chunkgram)\n",
    "            chunked=chunkParser.parse(tagged)\n",
    "            \n",
    "            #draw the chunks with nltk\n",
    "            chunked.draw()\n",
    "    except Exception as e:\n",
    "        print(str(e))\n",
    "process_content1()"
   ]
  },
  {
   "cell_type": "code",
   "execution_count": 23,
   "metadata": {},
   "outputs": [
    {
     "data": {
      "text/plain": [
       "'\\n<RB.?>*=\"0 or more of any tense adverb\"\\n<VB.?>*=\"0 or more of any tense verb\"\\n<NNP>*=\"one or more Proper Noun\" followed by\\n<NN>?=\"zero or one singular noun\"\\n'"
      ]
     },
     "execution_count": 23,
     "metadata": {},
     "output_type": "execute_result"
    }
   ],
   "source": [
    "'''\n",
    "<RB.?>*=\"0 or more of any tense adverb\"\n",
    "<VB.?>*=\"0 or more of any tense verb\"\n",
    "<NNP>*=\"one or more Proper Noun\" followed by\n",
    "<NN>?=\"zero or one singular noun\"\n",
    "'''"
   ]
  },
  {
   "cell_type": "code",
   "execution_count": 24,
   "metadata": {},
   "outputs": [
    {
     "name": "stdout",
     "output_type": "stream",
     "text": [
      "(Chunk PRESIDENT/NNP GEORGE/NNP W./NNP BUSH/NNP)\n",
      "(Chunk ADDRESS/NNP)\n",
      "(Chunk A/NNP JOINT/NNP SESSION/NNP)\n",
      "(Chunk THE/NNP CONGRESS/NNP ON/NNP THE/NNP STATE/NNP)\n",
      "(Chunk THE/NNP UNION/NNP January/NNP)\n",
      "(Chunk THE/NNP PRESIDENT/NNP)\n",
      "(Chunk Thank/NNP)\n",
      "(Chunk Mr./NNP Speaker/NNP)\n",
      "(Chunk Vice/NNP President/NNP Cheney/NNP)\n",
      "(Chunk Congress/NNP)\n",
      "(Chunk Supreme/NNP Court/NNP)\n",
      "(Chunk corps/NN)\n",
      "(Chunk Today/VB)\n",
      "(Chunk nation/NN)\n",
      "(Chunk lost/VBD)\n",
      "(Chunk beloved/VBN)\n",
      "(Chunk woman/NN)\n",
      "(Chunk called/VBD America/NNP)\n",
      "(Chunk founding/NN)\n",
      "(Chunk carried/VBD)\n",
      "(Chunk dream/NN)\n",
      "(Chunk Tonight/NN)\n",
      "(Chunk are/VBP comforted/VBN)\n",
      "(Chunk hope/NN)\n",
      "(Chunk reunion/NN)\n",
      "(Chunk husband/NN)\n",
      "(Chunk was/VBD taken/VBN)\n",
      "(Chunk so/RB long/RB ago/RB)\n",
      "(Chunk are/VBP)\n",
      "(Chunk life/NN)\n",
      "(Chunk Coretta/NNP Scott/NNP King/NNP)\n",
      "(Chunk Applause/NNP)\n",
      "(Chunk President/NNP George/NNP W./NNP Bush/NNP)\n",
      "(Chunk reacts/VBZ)\n",
      "(Chunk applause/VB)\n",
      "(Chunk State/NNP)\n",
      "(Chunk Union/NNP Address/NNP)\n",
      "(Chunk Capitol/NNP)\n",
      "(Chunk Tuesday/NNP)\n",
      "(Chunk Jan/NNP)\n",
      "(Chunk White/NNP House/NNP photo/NN)\n",
      "(Chunk Eric/NNP DraperEvery/NNP time/NN)\n",
      "(Chunk 'm/VBP)\n",
      "(Chunk rostrum/NN)\n",
      "(Chunk 'm/VBP humbled/VBN)\n",
      "(Chunk privilege/NN)\n",
      "(Chunk mindful/NN)\n",
      "(Chunk history/NN)\n",
      "(Chunk 've/VBP seen/VBN)\n",
      "(Chunk together/RB)\n",
      "(Chunk have/VBP gathered/VBN)\n",
      "(Chunk Capitol/NNP dome/NN)\n",
      "(Chunk mourning/NN)\n",
      "(Chunk achievement/NN)\n",
      "(Chunk have/VBP served/VBN America/NNP)\n",
      "(Chunk most/RBS)\n",
      "(Chunk history/NN)\n",
      "(Chunk has/VBZ been/VBN)\n",
      "(Chunk honor/NN)\n",
      "(Chunk serve/VB)\n",
      "(Chunk system/NN)\n",
      "(Chunk always/RB be/VB)\n",
      "(Chunk debate/NN)\n"
     ]
    }
   ],
   "source": [
    "#Chunking with NLTK\n",
    "\n",
    "training_tok=state_union.raw('2005-GWBush.txt')\n",
    "actual_tok=state_union.raw('2006-GWBush.txt')\n",
    "\n",
    "#Training the Punkt tokenizer\n",
    "custom_tok=PunktSentenceTokenizer(training_tok)\n",
    "\n",
    "#Tokenizing the text\n",
    "tokenized=custom_tok.tokenize(actual_tok)\n",
    "\n",
    "#Function to tokenize each word with a part of speech.\n",
    "def process_content2():\n",
    "    try:\n",
    "        for i in tokenized[:10]:\n",
    "            words=nltk.word_tokenize(i)\n",
    "            tagged=nltk.pos_tag(words)\n",
    "            \n",
    "            #Combining parts of speech with regular expression\n",
    "            chunkgram=r\"\"\"Chunk:{<RB.?>*<VB.?>*<NNP>*<NN>?}\"\"\"\n",
    "            chunkParser=nltk.RegexpParser(chunkgram)\n",
    "            chunked=chunkParser.parse(tagged)\n",
    "            \n",
    "            #Printing the nltk tree\n",
    "            for subtree in chunked.subtrees(filter=lambda t:t.label() == 'Chunk'):\n",
    "                print(subtree)\n",
    "    except Exception as e:\n",
    "        print(str(e))\n",
    "process_content2()"
   ]
  },
  {
   "cell_type": "code",
   "execution_count": 25,
   "metadata": {},
   "outputs": [
    {
     "name": "stdout",
     "output_type": "stream",
     "text": [
      "(Chunk PRESIDENT/NNP GEORGE/NNP W./NNP BUSH/NNP 'S/POS ADDRESS/NNP)\n",
      "(Chunk A/NNP JOINT/NNP SESSION/NNP)\n",
      "(Chunk THE/NNP CONGRESS/NNP ON/NNP THE/NNP STATE/NNP)\n",
      "(Chunk\n",
      "  THE/NNP\n",
      "  UNION/NNP\n",
      "  January/NNP\n",
      "  31/CD\n",
      "  ,/,\n",
      "  2006/CD\n",
      "  THE/NNP\n",
      "  PRESIDENT/NNP\n",
      "  :/:\n",
      "  Thank/NNP\n",
      "  you/PRP)\n",
      "(Chunk ./.)\n",
      "(Chunk\n",
      "  Mr./NNP\n",
      "  Speaker/NNP\n",
      "  ,/,\n",
      "  Vice/NNP\n",
      "  President/NNP\n",
      "  Cheney/NNP\n",
      "  ,/,\n",
      "  members/NNS)\n",
      "(Chunk Congress/NNP ,/, members/NNS)\n",
      "(Chunk\n",
      "  Supreme/NNP\n",
      "  Court/NNP\n",
      "  and/CC\n",
      "  diplomatic/JJ\n",
      "  corps/NN\n",
      "  ,/,\n",
      "  distinguished/JJ\n",
      "  guests/NNS\n",
      "  ,/,\n",
      "  and/CC\n",
      "  fellow/JJ\n",
      "  citizens/NNS\n",
      "  :/:)\n",
      "(Chunk our/PRP$ nation/NN)\n",
      "(Chunk ,/, graceful/JJ ,/, courageous/JJ woman/NN who/WP)\n",
      "(Chunk America/NNP)\n",
      "(Chunk its/PRP$ founding/NN ideals/NNS and/CC)\n",
      "(Chunk noble/JJ dream/NN ./.)\n",
      "(Chunk Tonight/NN we/PRP)\n",
      "(Chunk hope/NN)\n",
      "(Chunk glad/JJ reunion/NN)\n",
      "(Chunk husband/NN who/WP)\n",
      "(Chunk so/RB long/RB ago/RB ,/, and/CC we/PRP)\n",
      "(Chunk grateful/JJ)\n",
      "(Chunk good/JJ life/NN)\n",
      "(Chunk Coretta/NNP Scott/NNP King/NNP ./.)\n",
      "(Chunk (/( Applause/NNP ./. )/))\n",
      "(Chunk President/NNP George/NNP W./NNP Bush/NNP)\n",
      "(Chunk his/PRP$ State/NNP)\n",
      "(Chunk Union/NNP Address/NNP)\n",
      "(Chunk Capitol/NNP ,/, Tuesday/NNP ,/, Jan/NNP ./.)\n",
      "(Chunk 31/CD ,/, 2006/CD ./.)\n",
      "(Chunk White/NNP House/NNP photo/NN)\n",
      "(Chunk Eric/NNP DraperEvery/NNP time/NN I/PRP)\n",
      "(Chunk invited/JJ)\n",
      "(Chunk rostrum/NN ,/, I/PRP)\n",
      "(Chunk privilege/NN ,/, and/CC mindful/NN)\n",
      "(Chunk history/NN we/PRP)\n",
      "(Chunk together/RB ./.)\n",
      "(Chunk We/PRP)\n",
      "(Chunk Capitol/NNP dome/NN)\n",
      "(Chunk moments/NNS)\n",
      "(Chunk national/JJ mourning/NN and/CC national/JJ achievement/NN ./.)\n",
      "(Chunk We/PRP)\n",
      "(Chunk America/NNP)\n",
      "(Chunk one/CD)\n",
      "(Chunk most/RBS consequential/JJ periods/NNS)\n",
      "(Chunk our/PRP$ history/NN --/: and/CC it/PRP)\n",
      "(Chunk my/PRP$ honor/NN)\n",
      "(Chunk you/PRP ./.)\n",
      "(Chunk system/NN)\n",
      "(Chunk\n",
      "  two/CD\n",
      "  parties/NNS\n",
      "  ,/,\n",
      "  two/CD\n",
      "  chambers/NNS\n",
      "  ,/,\n",
      "  and/CC\n",
      "  two/CD\n",
      "  elected/JJ\n",
      "  branches/NNS\n",
      "  ,/,\n",
      "  there/EX\n",
      "  will/MD\n",
      "  always/RB)\n",
      "(Chunk differences/NNS and/CC debate/NN ./.)\n"
     ]
    }
   ],
   "source": [
    "#Chinking with NLTK\n",
    "\n",
    "training_tok=state_union.raw('2005-GWBush.txt')\n",
    "actual_tok=state_union.raw('2006-GWBush.txt')\n",
    "\n",
    "#Training the Punkt tokenizer\n",
    "custom_tok=PunktSentenceTokenizer(training_tok)\n",
    "\n",
    "#Tokenizing the text\n",
    "tokenized=custom_tok.tokenize(actual_tok)\n",
    "\n",
    "#Function to tokenize each word with a part of speech.\n",
    "def process_content2():\n",
    "    try:\n",
    "        for i in tokenized[:10]:\n",
    "            words=nltk.word_tokenize(i)\n",
    "            tagged=nltk.pos_tag(words)\n",
    "            \n",
    "            #}{ means that multiple verbs,prepositions or the word'TO' is being removed from the chink\n",
    "            \n",
    "            #Combining parts of speech with regular expression\n",
    "            \n",
    "            chunkgram=r\"\"\"Chunk: {<.*>+}            \n",
    "            }<VB.?|IN|DT|TO>+{\"\"\"                   #Removing the verbs,prepositions,determiners or word 'TO'\n",
    "            chunkParser=nltk.RegexpParser(chunkgram)\n",
    "            chunked=chunkParser.parse(tagged)\n",
    "            \n",
    "            #Printing the nltk tree\n",
    "            \n",
    "            for subtree in chunked.subtrees(filter=lambda t:t.label() == 'Chunk'):\n",
    "                print(subtree)\n",
    "    except Exception as e:\n",
    "        print(str(e))\n",
    "process_content2()"
   ]
  },
  {
   "cell_type": "markdown",
   "metadata": {},
   "source": [
    "#### Named Entity recognition usnig nltk's inbuilt named entity recognizer"
   ]
  },
  {
   "cell_type": "code",
   "execution_count": 26,
   "metadata": {},
   "outputs": [],
   "source": [
    "def process_content3():\n",
    "    try:\n",
    "        for i in tokenized[:5]:\n",
    "            words=nltk.word_tokenize(i)\n",
    "            tagged=nltk.pos_tag(words)\n",
    "            named_Ent=nltk.ne_chunk(tagged,binary=False)\n",
    "            \n",
    "            #draw the named entity\n",
    "            named_Ent.draw()\n",
    "            \n",
    "    except Exception as e:\n",
    "        print(str(e))\n",
    "process_content3()"
   ]
  },
  {
   "cell_type": "markdown",
   "metadata": {},
   "source": [
    "## Text Classification"
   ]
  },
  {
   "cell_type": "markdown",
   "metadata": {},
   "source": [
    "#### Text Classification using NLTK"
   ]
  },
  {
   "cell_type": "markdown",
   "metadata": {},
   "source": [
    "We are now going to classify text using simple machine learning classification algorithms"
   ]
  },
  {
   "cell_type": "code",
   "execution_count": 27,
   "metadata": {},
   "outputs": [],
   "source": [
    "import random\n",
    "import nltk\n",
    "from nltk.corpus import movie_reviews"
   ]
  },
  {
   "cell_type": "code",
   "execution_count": 28,
   "metadata": {},
   "outputs": [
    {
     "name": "stdout",
     "output_type": "stream",
     "text": [
      "Number of reviews: 2000\n",
      "First review: (['the', 'word', \"'\", 'rest', \"'\", 'in', 'the', 'title', 'should', 'be', 'stressed', 'since', 'this', 'is', 'a', 'movie', 'that', 'lacks', 'any', 'action', 'scenes', 'at', 'all', '.', 'what', 'does', 'takes', 'place', 'is', 'more', 'based', 'on', 'character', 'development', '.', 'the', 'film', 'starts', 'right', 'in', 'the', 'middle', 'of', 'the', 'lives', 'of', 'four', 'people', ':', 'nick', ',', 'beth', ',', 'carol', 'and', 'sid', '.', 'what', 'they', 'have', 'done', 'earlier', 'is', 'for', 'the', 'most', 'part', 'only', 'hinted', 'at', '.', 'nick', 'and', 'beth', 'have', 'a', 'relationship', 'and', 'have', 'decided', 'to', 'move', 'from', 'enfield', ',', 'arizona', 'to', 'butte', ',', 'montana', '.', '(', 'and', 'i', 'who', 'thought', 'that', 'butte', 'was', 'pronounced', 'slightly', 'different', '.', '.', '.', ')', 'carol', 'is', 'nick', \"'\", 's', 'ex', '-', 'girlfriend', 'and', 'beth', \"'\", 's', 'best', 'friend', ',', 'sid', 'is', 'a', 'joint', '-', 'smoking', 'painter', 'that', 'comes', 'to', 'repaint', 'their', 'house', 'before', 'the', 'new', 'tenants', 'move', 'in', '.', 'obviously', 'based', 'on', 'a', 'stage', 'play', ',', 'the', 'problem', 'with', 'the', 'movie', 'is', 'that', 'there', \"'\", 's', 'a', 'lot', 'of', 'things', 'left', 'out', '.', 'it', \"'\", 's', 'not', 'obvious', 'that', 'nick', 'and', 'beth', 'are', 'in', 'love', 'with', 'each', 'other', ',', 'the', 'reason', 'why', 'nick', 'was', 'fired', 'from', 'his', 'job', 'isn', \"'\", 't', 'mentioned', '.', 'and', 'why', 'nick', 'suddenly', 'decide', 'to', 'go', 'visit', 'his', 'parents', 'remain', 'a', 'mystery', ',', 'when', 'he', 'hasn', \"'\", 't', 'seen', 'them', 'for', 'many', 'years', '.', 'set', 'in', 'a', 'small', '(', 'fictional', '?', ')', 'town', 'in', 'arizona', 'was', 'a', 'good', 'move', ',', 'since', 'this', 'makes', 'the', 'film', 'focus', 'on', 'the', 'four', 'characters', 'and', 'not', 'on', 'their', 'surroundings', '.', 'the', 'name', 'of', 'the', 'city', 'is', 'not', 'important', ',', 'this', 'could', 'take', 'place', 'anywhere', 'with', 'four', 'young', 'people', 'in', 'a', 'house', 'discussing', 'life', 'and', 'the', 'future', '.', 'particularly', 'impressive', 'is', 'bridget', 'fonda', 'as', 'beth', 'who', 'end', 'up', 'in', 'bed', 'with', 'sid', 'when', 'her', 'fiance', 'nick', 'leaves', 'her', '.', 'not', 'an', 'actress', 'that', 'i', 'have', 'found', 'interesting', 'earlier', 'or', 'seen', 'many', 'pictures', 'with', ',', 'but', 'i', \"'\", 'll', 'keep', 'an', 'eye', 'on', 'her', 'in', 'the', 'future', '.', 'interesting', 'trivia', ':', 'this', 'was', 'rated', 'r', 'in', 'the', 'us', 'but', 'rated', \"'\", 'barntill', '?', 'ten', \"'\", 'in', 'sweden', 'wich', 'means', 'that', 'anyone', 'at', 'any', 'age', 'can', 'see', 'it', '.'], 'pos')\n",
      "Most common words:{} [(',', 77717), ('the', 76529), ('.', 65876), ('a', 38106), ('and', 35576), ('of', 34123), ('to', 31937), (\"'\", 30585), ('is', 25195), ('in', 21822), ('s', 18513), ('\"', 17612), ('it', 16107), ('that', 15924), ('-', 15595)]\n",
      "The word good: 2411\n",
      "The word bad: 1395\n"
     ]
    }
   ],
   "source": [
    "#building list of reviews\n",
    "documents=[(list(movie_reviews.words(fileid)),category)\n",
    "        for category in movie_reviews.categories()\n",
    "        for fileid in movie_reviews.fileids(category)]\n",
    "#shuffle the reviews\n",
    "\n",
    "random.shuffle(documents)\n",
    "print('Number of reviews:',len(documents))\n",
    "print('First review:',documents[0])\n",
    "\n",
    "all_words=[]\n",
    "for w in movie_reviews.words():\n",
    "    all_words.append(w.lower())\n",
    "all_words=nltk.FreqDist(all_words)\n",
    "\n",
    "print('Most common words:{}',all_words.most_common(15))\n",
    "print('The word good:',all_words[\"good\"])\n",
    "print(\"The word bad:\",all_words[\"bad\"])"
   ]
  },
  {
   "cell_type": "code",
   "execution_count": 29,
   "metadata": {},
   "outputs": [
    {
     "data": {
      "text/plain": [
       "39768"
      ]
     },
     "execution_count": 29,
     "metadata": {},
     "output_type": "execute_result"
    }
   ],
   "source": [
    "len(all_words)"
   ]
  },
  {
   "cell_type": "code",
   "execution_count": 30,
   "metadata": {},
   "outputs": [],
   "source": [
    "#The words list is scaled down to 5000 on which on ML algorithm will be trained\n",
    "words_features=list(all_words.keys())[:5000]"
   ]
  },
  {
   "cell_type": "code",
   "execution_count": 31,
   "metadata": {},
   "outputs": [
    {
     "name": "stdout",
     "output_type": "stream",
     "text": [
      "plot\n",
      ":\n",
      "two\n",
      "teen\n",
      "couples\n",
      "go\n",
      "to\n",
      "a\n",
      "church\n",
      "party\n",
      ",\n",
      "drink\n",
      "and\n",
      "then\n",
      "drive\n",
      ".\n",
      "they\n",
      "get\n",
      "into\n",
      "an\n",
      "accident\n",
      "one\n",
      "of\n",
      "the\n",
      "guys\n",
      "dies\n",
      "but\n",
      "his\n",
      "girlfriend\n",
      "continues\n",
      "see\n",
      "him\n",
      "in\n",
      "her\n",
      "life\n",
      "has\n",
      "nightmares\n",
      "what\n",
      "'\n",
      "s\n",
      "deal\n",
      "?\n",
      "watch\n",
      "movie\n",
      "\"\n",
      "sorta\n",
      "find\n",
      "out\n",
      "critique\n",
      "mind\n",
      "-\n",
      "fuck\n",
      "for\n",
      "generation\n",
      "that\n",
      "touches\n",
      "on\n",
      "very\n",
      "cool\n",
      "idea\n",
      "presents\n",
      "it\n",
      "bad\n",
      "package\n",
      "which\n",
      "is\n",
      "makes\n",
      "this\n",
      "review\n",
      "even\n",
      "harder\n",
      "write\n",
      "since\n",
      "i\n",
      "generally\n",
      "applaud\n",
      "films\n",
      "attempt\n",
      "break\n",
      "mold\n",
      "mess\n",
      "with\n",
      "your\n",
      "head\n",
      "such\n",
      "(\n",
      "lost\n",
      "highway\n",
      "&\n",
      "memento\n",
      ")\n",
      "there\n",
      "are\n",
      "good\n",
      "ways\n",
      "making\n",
      "all\n",
      "types\n",
      "these\n",
      "folks\n",
      "just\n",
      "didn\n",
      "t\n",
      "snag\n",
      "correctly\n",
      "seem\n",
      "have\n",
      "taken\n",
      "pretty\n",
      "neat\n",
      "concept\n",
      "executed\n",
      "terribly\n",
      "so\n",
      "problems\n",
      "well\n",
      "its\n",
      "main\n",
      "problem\n",
      "simply\n",
      "too\n",
      "jumbled\n",
      "starts\n",
      "off\n",
      "normal\n",
      "downshifts\n",
      "fantasy\n",
      "world\n",
      "you\n",
      "as\n",
      "audience\n",
      "member\n",
      "no\n",
      "going\n",
      "dreams\n",
      "characters\n",
      "coming\n",
      "back\n",
      "from\n",
      "dead\n",
      "others\n",
      "who\n",
      "look\n",
      "like\n",
      "strange\n",
      "apparitions\n",
      "disappearances\n",
      "looooot\n",
      "chase\n",
      "scenes\n",
      "tons\n",
      "weird\n",
      "things\n",
      "happen\n",
      "most\n",
      "not\n",
      "explained\n",
      "now\n",
      "personally\n",
      "don\n",
      "trying\n",
      "unravel\n",
      "film\n",
      "every\n",
      "when\n",
      "does\n",
      "give\n",
      "me\n",
      "same\n",
      "clue\n",
      "over\n",
      "again\n",
      "kind\n",
      "fed\n",
      "up\n",
      "after\n",
      "while\n",
      "biggest\n",
      "obviously\n",
      "got\n",
      "big\n",
      "secret\n",
      "hide\n",
      "seems\n",
      "want\n",
      "completely\n",
      "until\n",
      "final\n",
      "five\n",
      "minutes\n",
      "do\n",
      "make\n",
      "entertaining\n",
      "thrilling\n",
      "or\n",
      "engaging\n",
      "meantime\n",
      "really\n",
      "sad\n",
      "part\n",
      "arrow\n",
      "both\n",
      "dig\n",
      "flicks\n",
      "we\n",
      "actually\n",
      "figured\n",
      "by\n",
      "half\n",
      "way\n",
      "point\n",
      "strangeness\n",
      "did\n",
      "start\n",
      "little\n",
      "bit\n",
      "sense\n",
      "still\n",
      "more\n",
      "guess\n",
      "bottom\n",
      "line\n",
      "movies\n",
      "should\n",
      "always\n",
      "sure\n",
      "before\n",
      "given\n",
      "password\n",
      "enter\n",
      "understanding\n",
      "mean\n",
      "showing\n",
      "melissa\n",
      "sagemiller\n",
      "running\n",
      "away\n",
      "visions\n",
      "about\n",
      "20\n",
      "throughout\n",
      "plain\n",
      "lazy\n",
      "!\n",
      "okay\n",
      "people\n",
      "chasing\n",
      "know\n",
      "need\n",
      "how\n",
      "giving\n",
      "us\n",
      "different\n",
      "offering\n",
      "further\n",
      "insight\n",
      "down\n",
      "apparently\n",
      "studio\n",
      "took\n",
      "director\n",
      "chopped\n",
      "themselves\n",
      "shows\n",
      "might\n",
      "ve\n",
      "been\n",
      "decent\n",
      "here\n",
      "somewhere\n",
      "suits\n",
      "decided\n",
      "turning\n",
      "music\n",
      "video\n",
      "edge\n",
      "would\n",
      "actors\n",
      "although\n",
      "wes\n",
      "bentley\n",
      "seemed\n",
      "be\n",
      "playing\n",
      "exact\n",
      "character\n",
      "he\n",
      "american\n",
      "beauty\n",
      "only\n",
      "new\n",
      "neighborhood\n",
      "my\n",
      "kudos\n",
      "holds\n",
      "own\n",
      "entire\n",
      "feeling\n",
      "unraveling\n",
      "overall\n",
      "doesn\n",
      "stick\n",
      "because\n",
      "entertain\n",
      "confusing\n",
      "rarely\n",
      "excites\n",
      "feels\n",
      "redundant\n",
      "runtime\n",
      "despite\n",
      "ending\n",
      "explanation\n",
      "craziness\n",
      "came\n",
      "oh\n",
      "horror\n",
      "slasher\n",
      "flick\n",
      "packaged\n",
      "someone\n",
      "assuming\n",
      "genre\n",
      "hot\n",
      "kids\n",
      "also\n",
      "wrapped\n",
      "production\n",
      "years\n",
      "ago\n",
      "sitting\n",
      "shelves\n",
      "ever\n",
      "whatever\n",
      "skip\n",
      "where\n",
      "joblo\n",
      "nightmare\n",
      "elm\n",
      "street\n",
      "3\n",
      "7\n",
      "/\n",
      "10\n",
      "blair\n",
      "witch\n",
      "2\n",
      "crow\n",
      "9\n",
      "salvation\n",
      "4\n",
      "stir\n",
      "echoes\n",
      "8\n"
     ]
    }
   ],
   "source": [
    "# A function is defined which will find which of the 5000 word features are contained in a review\n",
    "def find_features(document):\n",
    "    words=set(document)\n",
    "    features={}\n",
    "    \n",
    "    for w in words_features:\n",
    "        features[w]=(w in words)\n",
    "    return features\n",
    "\n",
    "#Example : a negative review\n",
    "features=find_features(movie_reviews.words('neg/cv000_29416.txt'))\n",
    "for key,value in features.items():\n",
    "    if value == True:\n",
    "        print(key)"
   ]
  },
  {
   "cell_type": "code",
   "execution_count": 32,
   "metadata": {},
   "outputs": [],
   "source": [
    "#For the rest of the reviews\n",
    "featuresets=[(find_features(rev),category) for (rev,category) in documents]"
   ]
  },
  {
   "cell_type": "code",
   "execution_count": 33,
   "metadata": {},
   "outputs": [],
   "source": [
    "from sklearn import model_selection\n",
    "\n",
    "#define seed for reproducibility\n",
    "seed=1\n",
    "\n",
    "#splitting the data into training and testing examples\n",
    "training,testing= model_selection.train_test_split(featuresets,test_size=0.25, random_state=seed)"
   ]
  },
  {
   "cell_type": "code",
   "execution_count": 34,
   "metadata": {},
   "outputs": [
    {
     "name": "stdout",
     "output_type": "stream",
     "text": [
      "1500\n",
      "500\n"
     ]
    }
   ],
   "source": [
    "print(len(training))\n",
    "print(len(testing))"
   ]
  },
  {
   "cell_type": "code",
   "execution_count": 35,
   "metadata": {},
   "outputs": [],
   "source": [
    "#sklearn algorithms in nltk\n",
    "from nltk.classify.scikitlearn import SklearnClassifier\n",
    "from sklearn.svm import SVC"
   ]
  },
  {
   "cell_type": "code",
   "execution_count": 36,
   "metadata": {},
   "outputs": [],
   "source": [
    "model=SklearnClassifier(SVC(kernel='linear'))"
   ]
  },
  {
   "cell_type": "code",
   "execution_count": 37,
   "metadata": {},
   "outputs": [
    {
     "data": {
      "text/plain": [
       "<SklearnClassifier(SVC(C=1.0, cache_size=200, class_weight=None, coef0=0.0,\n",
       "    decision_function_shape='ovr', degree=3, gamma='auto_deprecated',\n",
       "    kernel='linear', max_iter=-1, probability=False, random_state=None,\n",
       "    shrinking=True, tol=0.001, verbose=False))>"
      ]
     },
     "execution_count": 37,
     "metadata": {},
     "output_type": "execute_result"
    }
   ],
   "source": [
    "#train model on testing data\n",
    "model.train(training)"
   ]
  },
  {
   "cell_type": "code",
   "execution_count": 38,
   "metadata": {},
   "outputs": [
    {
     "name": "stdout",
     "output_type": "stream",
     "text": [
      "SVC accuracy: 0.788\n"
     ]
    }
   ],
   "source": [
    "#test model on testing dataset\n",
    "accuracy=nltk.classify.accuracy(model,testing)\n",
    "print('SVC accuracy:',accuracy)"
   ]
  },
  {
   "cell_type": "markdown",
   "metadata": {},
   "source": [
    "#### Our model accuracy using SVM algorithm on training dataset using SVM classifier is 78.8%"
   ]
  }
 ],
 "metadata": {
  "kernelspec": {
   "display_name": "Python 3",
   "language": "python",
   "name": "python3"
  },
  "language_info": {
   "codemirror_mode": {
    "name": "ipython",
    "version": 3
   },
   "file_extension": ".py",
   "mimetype": "text/x-python",
   "name": "python",
   "nbconvert_exporter": "python",
   "pygments_lexer": "ipython3",
   "version": "3.7.4"
  }
 },
 "nbformat": 4,
 "nbformat_minor": 4
}
